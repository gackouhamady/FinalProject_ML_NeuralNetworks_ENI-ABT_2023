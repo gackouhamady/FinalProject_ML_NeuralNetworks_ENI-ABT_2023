{
  "cells": [
    {
      "cell_type": "markdown",
      "metadata": {
        "id": "view-in-github",
        "colab_type": "text"
      },
      "source": [
        "<a href=\"https://colab.research.google.com/github/gackouhamady/FinalProject_ML_NeuralNetworks_ENI-ABT_2023/blob/main/Deep_Learning_with_Keras_Assignment.ipynb\" target=\"_parent\"><img src=\"https://colab.research.google.com/assets/colab-badge.svg\" alt=\"Open In Colab\"/></a>"
      ]
    },
    {
      "cell_type": "markdown",
      "source": [
        "# **Sommaire :**\n",
        "\n",
        "\n",
        "1. **Contexte**\n",
        "2. **Construction d'un modèle de référence**\n",
        "\n",
        "\n",
        "3.   **Normalisation des données**\n",
        "4.   **Incrementation du nombre d'époques**\n",
        "\n",
        "\n",
        "5.   **Augmentation du nombre de couches cachés**\n",
        "6.   **Conclusion**\n",
        "\n",
        "\n",
        "\n",
        "\n",
        "\n",
        "\n",
        "\n"
      ],
      "metadata": {
        "id": "9BVr0WHuftgx"
      }
    },
    {
      "cell_type": "markdown",
      "source": [
        "# 1. **Contexte**\n",
        "Dans ce projet, nous construirons un modèle de régression à l'aide de la bibliothèque d'apprentissage en profondeur Keras, puis nous expérimenterons l'augmentation du nombre d'époques de formation et la modification du nombre de couches cachées et nous verrons comment la modification de ces paramètres affecte les performances du modèle. Pour la commodité, les données peuvent être retrouvées ici :https://cocl.us/concrete_data .  "
      ],
      "metadata": {
        "id": "F7B6eAizh7UQ"
      }
    },
    {
      "cell_type": "markdown",
      "metadata": {
        "id": "06CshF9iLN5y"
      },
      "source": [
        "# Préparer l'environnement\n",
        "\n",
        "Tout d'abord, procédons à quelques importations et téléchargeons l'ensemble des données."
      ]
    },
    {
      "cell_type": "code",
      "execution_count": 12,
      "metadata": {
        "colab": {
          "base_uri": "https://localhost:8080/",
          "height": 206
        },
        "id": "5bHNwg-lLN6G",
        "outputId": "5a519a44-e115-47ab-9ad6-c0c3161cc3ad"
      },
      "outputs": [
        {
          "output_type": "execute_result",
          "data": {
            "text/plain": [
              "   Cement  Blast Furnace Slag  Fly Ash  Water  Superplasticizer  \\\n",
              "0   540.0                 0.0      0.0  162.0               2.5   \n",
              "1   540.0                 0.0      0.0  162.0               2.5   \n",
              "2   332.5               142.5      0.0  228.0               0.0   \n",
              "3   332.5               142.5      0.0  228.0               0.0   \n",
              "4   198.6               132.4      0.0  192.0               0.0   \n",
              "\n",
              "   Coarse Aggregate  Fine Aggregate  Age  Strength  \n",
              "0            1040.0           676.0   28     79.99  \n",
              "1            1055.0           676.0   28     61.89  \n",
              "2             932.0           594.0  270     40.27  \n",
              "3             932.0           594.0  365     41.05  \n",
              "4             978.4           825.5  360     44.30  "
            ],
            "text/html": [
              "\n",
              "  <div id=\"df-05f23356-fcfd-401e-a3b3-6bd953d4f159\">\n",
              "    <div class=\"colab-df-container\">\n",
              "      <div>\n",
              "<style scoped>\n",
              "    .dataframe tbody tr th:only-of-type {\n",
              "        vertical-align: middle;\n",
              "    }\n",
              "\n",
              "    .dataframe tbody tr th {\n",
              "        vertical-align: top;\n",
              "    }\n",
              "\n",
              "    .dataframe thead th {\n",
              "        text-align: right;\n",
              "    }\n",
              "</style>\n",
              "<table border=\"1\" class=\"dataframe\">\n",
              "  <thead>\n",
              "    <tr style=\"text-align: right;\">\n",
              "      <th></th>\n",
              "      <th>Cement</th>\n",
              "      <th>Blast Furnace Slag</th>\n",
              "      <th>Fly Ash</th>\n",
              "      <th>Water</th>\n",
              "      <th>Superplasticizer</th>\n",
              "      <th>Coarse Aggregate</th>\n",
              "      <th>Fine Aggregate</th>\n",
              "      <th>Age</th>\n",
              "      <th>Strength</th>\n",
              "    </tr>\n",
              "  </thead>\n",
              "  <tbody>\n",
              "    <tr>\n",
              "      <th>0</th>\n",
              "      <td>540.0</td>\n",
              "      <td>0.0</td>\n",
              "      <td>0.0</td>\n",
              "      <td>162.0</td>\n",
              "      <td>2.5</td>\n",
              "      <td>1040.0</td>\n",
              "      <td>676.0</td>\n",
              "      <td>28</td>\n",
              "      <td>79.99</td>\n",
              "    </tr>\n",
              "    <tr>\n",
              "      <th>1</th>\n",
              "      <td>540.0</td>\n",
              "      <td>0.0</td>\n",
              "      <td>0.0</td>\n",
              "      <td>162.0</td>\n",
              "      <td>2.5</td>\n",
              "      <td>1055.0</td>\n",
              "      <td>676.0</td>\n",
              "      <td>28</td>\n",
              "      <td>61.89</td>\n",
              "    </tr>\n",
              "    <tr>\n",
              "      <th>2</th>\n",
              "      <td>332.5</td>\n",
              "      <td>142.5</td>\n",
              "      <td>0.0</td>\n",
              "      <td>228.0</td>\n",
              "      <td>0.0</td>\n",
              "      <td>932.0</td>\n",
              "      <td>594.0</td>\n",
              "      <td>270</td>\n",
              "      <td>40.27</td>\n",
              "    </tr>\n",
              "    <tr>\n",
              "      <th>3</th>\n",
              "      <td>332.5</td>\n",
              "      <td>142.5</td>\n",
              "      <td>0.0</td>\n",
              "      <td>228.0</td>\n",
              "      <td>0.0</td>\n",
              "      <td>932.0</td>\n",
              "      <td>594.0</td>\n",
              "      <td>365</td>\n",
              "      <td>41.05</td>\n",
              "    </tr>\n",
              "    <tr>\n",
              "      <th>4</th>\n",
              "      <td>198.6</td>\n",
              "      <td>132.4</td>\n",
              "      <td>0.0</td>\n",
              "      <td>192.0</td>\n",
              "      <td>0.0</td>\n",
              "      <td>978.4</td>\n",
              "      <td>825.5</td>\n",
              "      <td>360</td>\n",
              "      <td>44.30</td>\n",
              "    </tr>\n",
              "  </tbody>\n",
              "</table>\n",
              "</div>\n",
              "      <button class=\"colab-df-convert\" onclick=\"convertToInteractive('df-05f23356-fcfd-401e-a3b3-6bd953d4f159')\"\n",
              "              title=\"Convert this dataframe to an interactive table.\"\n",
              "              style=\"display:none;\">\n",
              "        \n",
              "  <svg xmlns=\"http://www.w3.org/2000/svg\" height=\"24px\"viewBox=\"0 0 24 24\"\n",
              "       width=\"24px\">\n",
              "    <path d=\"M0 0h24v24H0V0z\" fill=\"none\"/>\n",
              "    <path d=\"M18.56 5.44l.94 2.06.94-2.06 2.06-.94-2.06-.94-.94-2.06-.94 2.06-2.06.94zm-11 1L8.5 8.5l.94-2.06 2.06-.94-2.06-.94L8.5 2.5l-.94 2.06-2.06.94zm10 10l.94 2.06.94-2.06 2.06-.94-2.06-.94-.94-2.06-.94 2.06-2.06.94z\"/><path d=\"M17.41 7.96l-1.37-1.37c-.4-.4-.92-.59-1.43-.59-.52 0-1.04.2-1.43.59L10.3 9.45l-7.72 7.72c-.78.78-.78 2.05 0 2.83L4 21.41c.39.39.9.59 1.41.59.51 0 1.02-.2 1.41-.59l7.78-7.78 2.81-2.81c.8-.78.8-2.07 0-2.86zM5.41 20L4 18.59l7.72-7.72 1.47 1.35L5.41 20z\"/>\n",
              "  </svg>\n",
              "      </button>\n",
              "      \n",
              "  <style>\n",
              "    .colab-df-container {\n",
              "      display:flex;\n",
              "      flex-wrap:wrap;\n",
              "      gap: 12px;\n",
              "    }\n",
              "\n",
              "    .colab-df-convert {\n",
              "      background-color: #E8F0FE;\n",
              "      border: none;\n",
              "      border-radius: 50%;\n",
              "      cursor: pointer;\n",
              "      display: none;\n",
              "      fill: #1967D2;\n",
              "      height: 32px;\n",
              "      padding: 0 0 0 0;\n",
              "      width: 32px;\n",
              "    }\n",
              "\n",
              "    .colab-df-convert:hover {\n",
              "      background-color: #E2EBFA;\n",
              "      box-shadow: 0px 1px 2px rgba(60, 64, 67, 0.3), 0px 1px 3px 1px rgba(60, 64, 67, 0.15);\n",
              "      fill: #174EA6;\n",
              "    }\n",
              "\n",
              "    [theme=dark] .colab-df-convert {\n",
              "      background-color: #3B4455;\n",
              "      fill: #D2E3FC;\n",
              "    }\n",
              "\n",
              "    [theme=dark] .colab-df-convert:hover {\n",
              "      background-color: #434B5C;\n",
              "      box-shadow: 0px 1px 3px 1px rgba(0, 0, 0, 0.15);\n",
              "      filter: drop-shadow(0px 1px 2px rgba(0, 0, 0, 0.3));\n",
              "      fill: #FFFFFF;\n",
              "    }\n",
              "  </style>\n",
              "\n",
              "      <script>\n",
              "        const buttonEl =\n",
              "          document.querySelector('#df-05f23356-fcfd-401e-a3b3-6bd953d4f159 button.colab-df-convert');\n",
              "        buttonEl.style.display =\n",
              "          google.colab.kernel.accessAllowed ? 'block' : 'none';\n",
              "\n",
              "        async function convertToInteractive(key) {\n",
              "          const element = document.querySelector('#df-05f23356-fcfd-401e-a3b3-6bd953d4f159');\n",
              "          const dataTable =\n",
              "            await google.colab.kernel.invokeFunction('convertToInteractive',\n",
              "                                                     [key], {});\n",
              "          if (!dataTable) return;\n",
              "\n",
              "          const docLinkHtml = 'Like what you see? Visit the ' +\n",
              "            '<a target=\"_blank\" href=https://colab.research.google.com/notebooks/data_table.ipynb>data table notebook</a>'\n",
              "            + ' to learn more about interactive tables.';\n",
              "          element.innerHTML = '';\n",
              "          dataTable['output_type'] = 'display_data';\n",
              "          await google.colab.output.renderOutput(dataTable, element);\n",
              "          const docLink = document.createElement('div');\n",
              "          docLink.innerHTML = docLinkHtml;\n",
              "          element.appendChild(docLink);\n",
              "        }\n",
              "      </script>\n",
              "    </div>\n",
              "  </div>\n",
              "  "
            ]
          },
          "metadata": {},
          "execution_count": 12
        }
      ],
      "source": [
        "import pandas as pd\n",
        "import numpy as np\n",
        "import keras\n",
        "\n",
        "from keras.models import Sequential\n",
        "from keras.layers import Dense\n",
        "# charger le jeu de données concrete_data\n",
        "concrete_data = pd.read_csv('https://cocl.us/concrete_data')\n",
        "\n",
        "# vérifier que les données ont été chargées correctement\n",
        "concrete_data.head()"
      ]
    },
    {
      "cell_type": "markdown",
      "source": [
        "# Connaitre le nombre d'elements de notre de dataset"
      ],
      "metadata": {
        "id": "u5poj69cegbA"
      }
    },
    {
      "cell_type": "code",
      "source": [
        "concrete_data.shape"
      ],
      "metadata": {
        "id": "AV3Mu0LjePHY",
        "outputId": "50e08e6c-98e1-47c3-91bf-62e8fb1fbf1e",
        "colab": {
          "base_uri": "https://localhost:8080/"
        }
      },
      "execution_count": 13,
      "outputs": [
        {
          "output_type": "execute_result",
          "data": {
            "text/plain": [
              "(1030, 9)"
            ]
          },
          "metadata": {},
          "execution_count": 13
        }
      ]
    },
    {
      "cell_type": "markdown",
      "source": [
        "# diviser l'ensemble de données en prédicteurs (entrées) et en cibles (sorties)"
      ],
      "metadata": {
        "id": "Q4kcA5uee2Kk"
      }
    },
    {
      "cell_type": "code",
      "execution_count": 14,
      "metadata": {
        "id": "p9UCDK5KLN6K"
      },
      "outputs": [],
      "source": [
        "\n",
        "predictors = concrete_data.drop(columns=['Strength'])\n",
        "target = concrete_data['Strength']\n",
        "\n",
        "n_cols = predictors.shape[1]"
      ]
    },
    {
      "cell_type": "markdown",
      "metadata": {
        "id": "KBBKst4xLN6K"
      },
      "source": [
        "# 2. **Construction d'un modele de reference**\n",
        "Utilisez la bibliothèque Keras pour construire un réseau neuronal avec les caractéristiques suivantes :\n",
        "\n",
        "- Une couche cachée de 10 nœuds et une fonction d'activation ReLU.\n",
        "- Utilisez l'optimiseur adam et l'erreur quadratique moyenne comme fonction de perte.\n"
      ]
    },
    {
      "cell_type": "code",
      "execution_count": 15,
      "metadata": {
        "id": "PqWQwvDLLN6L"
      },
      "outputs": [],
      "source": [
        "# Créer le réseau neuronal dans une fonction afin de pouvoir l'utiliser plusieurs fois dans les sections suivantes\n",
        "def regression_model():\n",
        "    model = Sequential()\n",
        "    model.add(Dense(10, activation='relu', input_shape=(n_cols,)))\n",
        "    model.add(Dense(1))\n",
        "    model.compile(optimizer='adam', loss='mean_squared_error')\n",
        "    return model\n",
        "\n",
        "model = regression_model()"
      ]
    },
    {
      "cell_type": "markdown",
      "metadata": {
        "id": "kzx8jLhDLN6M"
      },
      "source": [
        "Divisez aléatoirement les données en deux ensembles, l'un pour la formation et l'autre pour le test, en réservant 30 % des données au test. Vous pouvez utiliser la fonction d'aide train_test_split de Scikit-learn."
      ]
    },
    {
      "cell_type": "code",
      "execution_count": 17,
      "metadata": {
        "id": "lkHRnk59LN6M",
        "outputId": "771d6bc5-bb5f-472f-b162-4320dc157183",
        "colab": {
          "base_uri": "https://localhost:8080/"
        }
      },
      "outputs": [
        {
          "output_type": "execute_result",
          "data": {
            "text/plain": [
              "(721, 8)"
            ]
          },
          "metadata": {},
          "execution_count": 17
        }
      ],
      "source": [
        "from sklearn.model_selection import train_test_split\n",
        "\n",
        "predictors_train, predictors_test, target_train, target_test = train_test_split(predictors, target, \n",
        "                                                                                test_size=0.3, random_state=71)\n",
        "# regardons la forme de l'ensemble des prédicteurs\n",
        "predictors_train.shape"
      ]
    },
    {
      "cell_type": "markdown",
      "metadata": {
        "id": "aThtmyWQLN6N"
      },
      "source": [
        "# Entraînez le modèle sur les données d'entraînement en utilisant 50 époches."
      ]
    },
    {
      "cell_type": "code",
      "execution_count": 18,
      "metadata": {
        "id": "2aKYwF_ELN6O",
        "outputId": "745f104d-48b2-4c55-cc7a-e46d9465e23f",
        "colab": {
          "base_uri": "https://localhost:8080/"
        }
      },
      "outputs": [
        {
          "output_type": "stream",
          "name": "stdout",
          "text": [
            "Epoch 1/50\n",
            "23/23 [==============================] - 1s 2ms/step - loss: 283146.9062\n",
            "Epoch 2/50\n",
            "23/23 [==============================] - 0s 2ms/step - loss: 191580.5000\n",
            "Epoch 3/50\n",
            "23/23 [==============================] - 0s 2ms/step - loss: 126736.9062\n",
            "Epoch 4/50\n",
            "23/23 [==============================] - 0s 2ms/step - loss: 81988.5859\n",
            "Epoch 5/50\n",
            "23/23 [==============================] - 0s 2ms/step - loss: 51477.3906\n",
            "Epoch 6/50\n",
            "23/23 [==============================] - 0s 2ms/step - loss: 31271.7305\n",
            "Epoch 7/50\n",
            "23/23 [==============================] - 0s 2ms/step - loss: 18303.2422\n",
            "Epoch 8/50\n",
            "23/23 [==============================] - 0s 2ms/step - loss: 10525.0527\n",
            "Epoch 9/50\n",
            "23/23 [==============================] - 0s 2ms/step - loss: 6139.2671\n",
            "Epoch 10/50\n",
            "23/23 [==============================] - 0s 2ms/step - loss: 3823.9370\n",
            "Epoch 11/50\n",
            "23/23 [==============================] - 0s 2ms/step - loss: 2739.3987\n",
            "Epoch 12/50\n",
            "23/23 [==============================] - 0s 2ms/step - loss: 2206.0159\n",
            "Epoch 13/50\n",
            "23/23 [==============================] - 0s 2ms/step - loss: 1994.4460\n",
            "Epoch 14/50\n",
            "23/23 [==============================] - 0s 2ms/step - loss: 1886.2433\n",
            "Epoch 15/50\n",
            "23/23 [==============================] - 0s 2ms/step - loss: 1825.3899\n",
            "Epoch 16/50\n",
            "23/23 [==============================] - 0s 2ms/step - loss: 1775.1035\n",
            "Epoch 17/50\n",
            "23/23 [==============================] - 0s 2ms/step - loss: 1731.8148\n",
            "Epoch 18/50\n",
            "23/23 [==============================] - 0s 2ms/step - loss: 1687.6328\n",
            "Epoch 19/50\n",
            "23/23 [==============================] - 0s 3ms/step - loss: 1645.0259\n",
            "Epoch 20/50\n",
            "23/23 [==============================] - 0s 3ms/step - loss: 1602.7860\n",
            "Epoch 21/50\n",
            "23/23 [==============================] - 0s 3ms/step - loss: 1561.1075\n",
            "Epoch 22/50\n",
            "23/23 [==============================] - 0s 3ms/step - loss: 1518.7228\n",
            "Epoch 23/50\n",
            "23/23 [==============================] - 0s 3ms/step - loss: 1480.0620\n",
            "Epoch 24/50\n",
            "23/23 [==============================] - 0s 3ms/step - loss: 1437.2794\n",
            "Epoch 25/50\n",
            "23/23 [==============================] - 0s 3ms/step - loss: 1397.8741\n",
            "Epoch 26/50\n",
            "23/23 [==============================] - 0s 3ms/step - loss: 1358.8911\n",
            "Epoch 27/50\n",
            "23/23 [==============================] - 0s 3ms/step - loss: 1320.4263\n",
            "Epoch 28/50\n",
            "23/23 [==============================] - 0s 3ms/step - loss: 1282.9755\n",
            "Epoch 29/50\n",
            "23/23 [==============================] - 0s 3ms/step - loss: 1246.7247\n",
            "Epoch 30/50\n",
            "23/23 [==============================] - 0s 3ms/step - loss: 1210.8268\n",
            "Epoch 31/50\n",
            "23/23 [==============================] - 0s 3ms/step - loss: 1175.5049\n",
            "Epoch 32/50\n",
            "23/23 [==============================] - 0s 2ms/step - loss: 1142.2253\n",
            "Epoch 33/50\n",
            "23/23 [==============================] - 0s 3ms/step - loss: 1108.9359\n",
            "Epoch 34/50\n",
            "23/23 [==============================] - 0s 3ms/step - loss: 1075.7062\n",
            "Epoch 35/50\n",
            "23/23 [==============================] - 0s 3ms/step - loss: 1043.8096\n",
            "Epoch 36/50\n",
            "23/23 [==============================] - 0s 3ms/step - loss: 1012.3247\n",
            "Epoch 37/50\n",
            "23/23 [==============================] - 0s 3ms/step - loss: 982.2135\n",
            "Epoch 38/50\n",
            "23/23 [==============================] - 0s 3ms/step - loss: 952.7283\n",
            "Epoch 39/50\n",
            "23/23 [==============================] - 0s 3ms/step - loss: 924.2816\n",
            "Epoch 40/50\n",
            "23/23 [==============================] - 0s 3ms/step - loss: 897.0313\n",
            "Epoch 41/50\n",
            "23/23 [==============================] - 0s 3ms/step - loss: 871.9699\n",
            "Epoch 42/50\n",
            "23/23 [==============================] - 0s 3ms/step - loss: 845.9226\n",
            "Epoch 43/50\n",
            "23/23 [==============================] - 0s 3ms/step - loss: 821.3820\n",
            "Epoch 44/50\n",
            "23/23 [==============================] - 0s 3ms/step - loss: 797.2054\n",
            "Epoch 45/50\n",
            "23/23 [==============================] - 0s 3ms/step - loss: 773.1570\n",
            "Epoch 46/50\n",
            "23/23 [==============================] - 0s 2ms/step - loss: 750.5950\n",
            "Epoch 47/50\n",
            "23/23 [==============================] - 0s 3ms/step - loss: 728.8448\n",
            "Epoch 48/50\n",
            "23/23 [==============================] - 0s 3ms/step - loss: 707.8424\n",
            "Epoch 49/50\n",
            "23/23 [==============================] - 0s 3ms/step - loss: 688.3846\n",
            "Epoch 50/50\n",
            "23/23 [==============================] - 0s 3ms/step - loss: 669.3414\n"
          ]
        },
        {
          "output_type": "execute_result",
          "data": {
            "text/plain": [
              "<keras.callbacks.History at 0x7fa69c13ee20>"
            ]
          },
          "metadata": {},
          "execution_count": 18
        }
      ],
      "source": [
        "model.fit(predictors_train, target_train, epochs=50)"
      ]
    },
    {
      "cell_type": "markdown",
      "metadata": {
        "id": "2g67HmhvLN6O"
      },
      "source": [
        "# Évaluez le modèle sur les données d'essai et calculez l'erreur quadratique moyenne entre la résistance prédite du béton et la résistance réelle du béton. Vous pouvez utiliser la fonction mean_squared_error de Scikit-learn."
      ]
    },
    {
      "cell_type": "code",
      "execution_count": 20,
      "metadata": {
        "id": "ZyC67kELLN6P",
        "outputId": "9f127256-8a4d-43c5-bb92-616a67ea502a",
        "colab": {
          "base_uri": "https://localhost:8080/"
        }
      },
      "outputs": [
        {
          "output_type": "stream",
          "name": "stdout",
          "text": [
            "10/10 [==============================] - 0s 2ms/step\n",
            "Erreur quadratique moyenne sur les données de test est 535.297\n"
          ]
        }
      ],
      "source": [
        "predictions_test = model.predict(predictors_test)\n",
        "from sklearn.metrics import mean_squared_error\n",
        "print('Erreur quadratique moyenne sur les données de test est %.3f' % (mean_squared_error(target_test, predictions_test)))"
      ]
    },
    {
      "cell_type": "markdown",
      "metadata": {
        "id": "TmyuQkUvLN6Q"
      },
      "source": [
        "4. Répétez les étapes 1 à 3, 50 fois, c'est-à-dire créez une liste de 50 erreurs quadratiques moyennes.\n",
        "5. Indiquez la moyenne et l'écart-type des erreurs quadratiques moyennes."
      ]
    },
    {
      "cell_type": "code",
      "execution_count": null,
      "metadata": {
        "id": "bbqouVQMLN6Q"
      },
      "outputs": [],
      "source": [
        "# Créer une fonction qui évalue le modèle afin que nous puissions l'utiliser pour évaluer les modèles créés dans les parties A, B, C et D\n",
        "# Le paramètre 'create_model_func' est la fonction utilisée pour construire le modèle. Pour la partie A, il s'agit de la fonction\n",
        "# fonction regression_model définie ci-dessus\n",
        "def evaluate_model(create_model_func, predictors, targets, epochs=50):\n",
        "    mean_squared_errors = []\n",
        "    for i in range(50):\n",
        "        # create the model. I wasn't 100% clear whether this should be inside the loop, but I _think_ that was the\n",
        "        # intent of the question. Otherwise, the average and stddev of the mean squared error is not that meaningful\n",
        "        model = create_model_func()\n",
        "        # 1. split the data in a train and test set\n",
        "        predictors_train, predictors_test, target_train, target_test = train_test_split(predictors, target, \n",
        "                                                                                    test_size=0.3, random_state=71)\n",
        "        # 2. train 50 epochs (suppress logging this time)\n",
        "        model.fit(predictors_train, target_train, epochs=epochs, verbose=0)\n",
        "        # 3. measure the mse and add this to the list\n",
        "        predictions_test = model.predict(predictors_test)\n",
        "        mse = mean_squared_error(target_test, predictions_test)\n",
        "        mean_squared_errors.append(mse)\n",
        "        print('.', end='') # output a dot so we can see that the function is still running\n",
        "    print(' Done!')\n",
        "    # return the mean and stddev of the mse list\n",
        "    return np.mean(mean_squared_errors), np.std(mean_squared_errors)"
      ]
    },
    {
      "cell_type": "code",
      "execution_count": null,
      "metadata": {
        "id": "kK_ZMKjlLN6S",
        "outputId": "daf0c9b3-7cc6-48e7-a01b-da877ea1c287"
      },
      "outputs": [
        {
          "name": "stdout",
          "output_type": "stream",
          "text": [
            ".................................................. Done!\n",
            "Mean squared errors for 50 regression models: mean = 356.433, std dev = 376.897\n"
          ]
        }
      ],
      "source": [
        "# Evaluate the model and print the mean and std dev of the mean squared errors. Note that we pass in \n",
        "# the regression_model _function_ here. This is used in the evaluate_model function to create a fresh\n",
        "# neural network in each loop\n",
        "mean_mse, std_mse = evaluate_model(regression_model, predictors, target)\n",
        "# Report the mean and stddev of the mean squared errors\n",
        "print(\"Mean squared errors for 50 regression models: mean = %.3f, std dev = %.3f\" %(mean_mse, std_mse))"
      ]
    },
    {
      "cell_type": "markdown",
      "metadata": {
        "id": "tLZ0vGkdLN6T"
      },
      "source": [
        "# Part B - normalize the data\n",
        "\n",
        "Repeat Part A but use a normalized version of the data. Recall that one way to normalize the data is by subtracting the mean from the individual predictors and dividing by the standard deviation."
      ]
    },
    {
      "cell_type": "code",
      "execution_count": null,
      "metadata": {
        "id": "sN7Y4GngLN6T",
        "outputId": "cce64a85-f19d-4f36-815c-9e86e4d223d6"
      },
      "outputs": [
        {
          "data": {
            "text/html": [
              "<div>\n",
              "<style scoped>\n",
              "    .dataframe tbody tr th:only-of-type {\n",
              "        vertical-align: middle;\n",
              "    }\n",
              "\n",
              "    .dataframe tbody tr th {\n",
              "        vertical-align: top;\n",
              "    }\n",
              "\n",
              "    .dataframe thead th {\n",
              "        text-align: right;\n",
              "    }\n",
              "</style>\n",
              "<table border=\"1\" class=\"dataframe\">\n",
              "  <thead>\n",
              "    <tr style=\"text-align: right;\">\n",
              "      <th></th>\n",
              "      <th>Cement</th>\n",
              "      <th>Blast Furnace Slag</th>\n",
              "      <th>Fly Ash</th>\n",
              "      <th>Water</th>\n",
              "      <th>Superplasticizer</th>\n",
              "      <th>Coarse Aggregate</th>\n",
              "      <th>Fine Aggregate</th>\n",
              "      <th>Age</th>\n",
              "    </tr>\n",
              "  </thead>\n",
              "  <tbody>\n",
              "    <tr>\n",
              "      <th>0</th>\n",
              "      <td>2.476712</td>\n",
              "      <td>-0.856472</td>\n",
              "      <td>-0.846733</td>\n",
              "      <td>-0.916319</td>\n",
              "      <td>-0.620147</td>\n",
              "      <td>0.862735</td>\n",
              "      <td>-1.217079</td>\n",
              "      <td>-0.279597</td>\n",
              "    </tr>\n",
              "    <tr>\n",
              "      <th>1</th>\n",
              "      <td>2.476712</td>\n",
              "      <td>-0.856472</td>\n",
              "      <td>-0.846733</td>\n",
              "      <td>-0.916319</td>\n",
              "      <td>-0.620147</td>\n",
              "      <td>1.055651</td>\n",
              "      <td>-1.217079</td>\n",
              "      <td>-0.279597</td>\n",
              "    </tr>\n",
              "    <tr>\n",
              "      <th>2</th>\n",
              "      <td>0.491187</td>\n",
              "      <td>0.795140</td>\n",
              "      <td>-0.846733</td>\n",
              "      <td>2.174405</td>\n",
              "      <td>-1.038638</td>\n",
              "      <td>-0.526262</td>\n",
              "      <td>-2.239829</td>\n",
              "      <td>3.551340</td>\n",
              "    </tr>\n",
              "    <tr>\n",
              "      <th>3</th>\n",
              "      <td>0.491187</td>\n",
              "      <td>0.795140</td>\n",
              "      <td>-0.846733</td>\n",
              "      <td>2.174405</td>\n",
              "      <td>-1.038638</td>\n",
              "      <td>-0.526262</td>\n",
              "      <td>-2.239829</td>\n",
              "      <td>5.055221</td>\n",
              "    </tr>\n",
              "    <tr>\n",
              "      <th>4</th>\n",
              "      <td>-0.790075</td>\n",
              "      <td>0.678079</td>\n",
              "      <td>-0.846733</td>\n",
              "      <td>0.488555</td>\n",
              "      <td>-1.038638</td>\n",
              "      <td>0.070492</td>\n",
              "      <td>0.647569</td>\n",
              "      <td>4.976069</td>\n",
              "    </tr>\n",
              "  </tbody>\n",
              "</table>\n",
              "</div>"
            ],
            "text/plain": [
              "     Cement  Blast Furnace Slag   Fly Ash     Water  Superplasticizer  \\\n",
              "0  2.476712           -0.856472 -0.846733 -0.916319         -0.620147   \n",
              "1  2.476712           -0.856472 -0.846733 -0.916319         -0.620147   \n",
              "2  0.491187            0.795140 -0.846733  2.174405         -1.038638   \n",
              "3  0.491187            0.795140 -0.846733  2.174405         -1.038638   \n",
              "4 -0.790075            0.678079 -0.846733  0.488555         -1.038638   \n",
              "\n",
              "   Coarse Aggregate  Fine Aggregate       Age  \n",
              "0          0.862735       -1.217079 -0.279597  \n",
              "1          1.055651       -1.217079 -0.279597  \n",
              "2         -0.526262       -2.239829  3.551340  \n",
              "3         -0.526262       -2.239829  5.055221  \n",
              "4          0.070492        0.647569  4.976069  "
            ]
          },
          "execution_count": 10,
          "metadata": {},
          "output_type": "execute_result"
        }
      ],
      "source": [
        "# Normalize the data\n",
        "predictors_norm = (predictors - predictors.mean()) / predictors.std()\n",
        "predictors_norm.head()"
      ]
    },
    {
      "cell_type": "code",
      "execution_count": null,
      "metadata": {
        "id": "jry0vYZRLN6U",
        "outputId": "ac700d4e-db14-4f74-8dde-4b829c9f444c"
      },
      "outputs": [
        {
          "name": "stdout",
          "output_type": "stream",
          "text": [
            ".................................................. Done!\n",
            "Mean squared errors for 50 regression models on normalized data: mean = 333.406, std dev = 76.560\n"
          ]
        }
      ],
      "source": [
        "mean_mse, std_mse = evaluate_model(regression_model, predictors_norm, target)\n",
        "# Report the mean and stddev of the mean squared errors\n",
        "print(\"Mean squared errors for 50 regression models on normalized data: mean = %.3f, std dev = %.3f\" % \n",
        "      (mean_mse, std_mse))"
      ]
    },
    {
      "cell_type": "markdown",
      "metadata": {
        "id": "WGvHXCOnLN6U"
      },
      "source": [
        "**How does the mean of the mean squared errors compare to that from Step A?**\n",
        "\n",
        "The mean of the mean squared error has gone down a bit (~10%), but the std deviation has gone down significantly. This implies that when using normalized data, the performance on the test set is much less dependent on how the data happened to be (randomly) split into a training and a test data set."
      ]
    },
    {
      "cell_type": "markdown",
      "metadata": {
        "id": "hWs9sfBaLN6V"
      },
      "source": [
        "# Part C - 100 epochs\n",
        "\n",
        "Repeat Part B **but use 100 epochs this time for training.**"
      ]
    },
    {
      "cell_type": "code",
      "execution_count": null,
      "metadata": {
        "id": "4J-7-autLN6V",
        "outputId": "6b087b77-5458-42ea-82ee-151bb01108fd"
      },
      "outputs": [
        {
          "name": "stdout",
          "output_type": "stream",
          "text": [
            ".................................................. Done!\n",
            "Mean squared errors for 50 regression models on normalized data, trained 100 epochs: mean = 149.652, std dev = 10.491\n"
          ]
        }
      ],
      "source": [
        "mean_mse, std_mse = evaluate_model(regression_model, predictors_norm, target, epochs=100)\n",
        "# Report the mean and stddev of the mean squared errors\n",
        "print(\"Mean squared errors for 50 regression models on normalized data, trained 100 epochs: mean = %.3f, std dev = %.3f\" % \n",
        "      (mean_mse, std_mse))"
      ]
    },
    {
      "cell_type": "markdown",
      "metadata": {
        "id": "a-loyzBFLN6W"
      },
      "source": [
        "**How does the mean of the mean squared errors compare to that from Step B?**\n",
        "\n",
        "The mean squared error on the test set more than halved. Clearly, there was plenty of improvement to be gained with additional training. The standard deviation has gone down a lot as well."
      ]
    },
    {
      "cell_type": "markdown",
      "metadata": {
        "id": "Hkx31jEkLN6W"
      },
      "source": [
        "# Part D - increate the number of hidden layers\n",
        "\n",
        "Repeat part B but use a neural network with the following instead:\n",
        "\n",
        "- Three hidden layers, each of 10 nodes and ReLU activation function."
      ]
    },
    {
      "cell_type": "code",
      "execution_count": null,
      "metadata": {
        "id": "uQLhkDc2LN6X",
        "outputId": "4efbce45-bafb-454d-a72a-d5a4ecb2c5fd"
      },
      "outputs": [
        {
          "name": "stdout",
          "output_type": "stream",
          "text": [
            ".................................................. Done!\n",
            "Mean squared errors for 50 regression models with 3 hidden layers: mean = 122.131, std dev = 13.626\n"
          ]
        }
      ],
      "source": [
        "def regression_model_D():\n",
        "    model = Sequential()\n",
        "    model.add(Dense(10, activation='relu', input_shape=(n_cols,)))\n",
        "    model.add(Dense(10, activation='relu'))\n",
        "    model.add(Dense(10, activation='relu'))\n",
        "    model.add(Dense(1))\n",
        "    model.compile(optimizer='adam', loss='mean_squared_error')\n",
        "    return model\n",
        "\n",
        "# Evaluate model D\n",
        "mean_mse, std_mse = evaluate_model(regression_model_D, predictors_norm, target)\n",
        "# Report the mean and stddev of the mean squared errors\n",
        "print(\"Mean squared errors for 50 regression models with 3 hidden layers: mean = %.3f, std dev = %.3f\" % \n",
        "      (mean_mse, std_mse))"
      ]
    },
    {
      "cell_type": "markdown",
      "metadata": {
        "id": "NtW2It2ILN6Z"
      },
      "source": [
        "**How does the mean of the mean squared errors compare to that from Step B?**\n",
        "\n",
        "The mean of the mean squared errors is a lot better than in part B (123 vs 321). This shows that the network with multiple hidden layers was significantly better at learning to predict the 'Strength' feature than the single layer network."
      ]
    },
    {
      "cell_type": "code",
      "execution_count": null,
      "metadata": {
        "id": "W1I-zab2LN6a"
      },
      "outputs": [],
      "source": []
    }
  ],
  "metadata": {
    "kernelspec": {
      "display_name": "Python 3",
      "language": "python",
      "name": "python3"
    },
    "language_info": {
      "codemirror_mode": {
        "name": "ipython",
        "version": 3
      },
      "file_extension": ".py",
      "mimetype": "text/x-python",
      "name": "python",
      "nbconvert_exporter": "python",
      "pygments_lexer": "ipython3",
      "version": "3.7.4"
    },
    "colab": {
      "provenance": [],
      "include_colab_link": true
    }
  },
  "nbformat": 4,
  "nbformat_minor": 0
}