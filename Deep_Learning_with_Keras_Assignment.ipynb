{
  "cells": [
    {
      "cell_type": "markdown",
      "metadata": {
        "id": "view-in-github",
        "colab_type": "text"
      },
      "source": [
        "<a href=\"https://colab.research.google.com/github/gackouhamady/FinalProject_ML_NeuralNetworks_ENI-ABT_2023/blob/main/Deep_Learning_with_Keras_Assignment.ipynb\" target=\"_parent\"><img src=\"https://colab.research.google.com/assets/colab-badge.svg\" alt=\"Open In Colab\"/></a>"
      ]
    },
    {
      "cell_type": "markdown",
      "source": [
        "# **Sommaire :**\n",
        "\n",
        "\n",
        "**Contexte**\n",
        "\n",
        "\n",
        "A. **Construction d'un modèle de référence**\n",
        "\n",
        "\n",
        "\n",
        "B.   **Normalisation des données**\n",
        "\n",
        "\n",
        "\n",
        "C.   **Incrementation du nombre d'époques**\n",
        "\n",
        "\n",
        "\n",
        "D.   **Augmentation du nombre de couches cachés**\n",
        "\n",
        "\n",
        "\n",
        "   **Conclusion**\n",
        "\n",
        "\n",
        "\n",
        "\n",
        "\n",
        "\n",
        "\n"
      ],
      "metadata": {
        "id": "9BVr0WHuftgx"
      }
    },
    {
      "cell_type": "markdown",
      "source": [
        "#  **Contexte**\n",
        "Dans ce projet, nous construirons un modèle de régression à l'aide de la bibliothèque d'apprentissage en profondeur Keras, puis nous expérimenterons l'augmentation du nombre d'époques de formation et la modification du nombre de couches cachées et nous verrons comment la modification de ces paramètres affecte les performances du modèle. Pour la commodité, les données peuvent être retrouvées ici :https://cocl.us/concrete_data .  \n",
        "Le jeu de données est un ensemble de données sur la résistance à la compression de différents échantillons de béton en fonction des volumes des différents matériaux utilisés pour les fabriquer. Le premier échantillon de béton contient 540 m3 de ciment, 0 m3 de laitier de haut fourneau, 0 m3 de cendres volantes, 162 m3 d'eau, 2,5 m3 de superplastifiant, 1 040 m3 de gros granulats et 676 m3 de granulats fins. Ce mélange de béton, âgé de 28 jours, a une résistance à la compression de 79,99 MPa. Les données se trouvent dans un cadre de données pandas nommé concrete_data.  \n",
        "L'objectif est de construire  un réseau neuronal profond afin de modéliser cet ensemble de données et de déterminer automatiquement la résistance à la compression d'un échantillon de béton donné en fonction de ses ingrédients."
      ],
      "metadata": {
        "id": "F7B6eAizh7UQ"
      }
    },
    {
      "cell_type": "markdown",
      "metadata": {
        "id": "06CshF9iLN5y"
      },
      "source": [
        "# 1. Préparer l'environnement\n",
        "\n",
        "Tout d'abord, procédons à quelques importations et téléchargeons l'ensemble des données."
      ]
    },
    {
      "cell_type": "code",
      "execution_count": 12,
      "metadata": {
        "colab": {
          "base_uri": "https://localhost:8080/",
          "height": 206
        },
        "id": "5bHNwg-lLN6G",
        "outputId": "6ed311ab-c372-422d-8639-3456f29d2161"
      },
      "outputs": [
        {
          "output_type": "execute_result",
          "data": {
            "text/plain": [
              "   Cement  Blast Furnace Slag  Fly Ash  Water  Superplasticizer  \\\n",
              "0   540.0                 0.0      0.0  162.0               2.5   \n",
              "1   540.0                 0.0      0.0  162.0               2.5   \n",
              "2   332.5               142.5      0.0  228.0               0.0   \n",
              "3   332.5               142.5      0.0  228.0               0.0   \n",
              "4   198.6               132.4      0.0  192.0               0.0   \n",
              "\n",
              "   Coarse Aggregate  Fine Aggregate  Age  Strength  \n",
              "0            1040.0           676.0   28     79.99  \n",
              "1            1055.0           676.0   28     61.89  \n",
              "2             932.0           594.0  270     40.27  \n",
              "3             932.0           594.0  365     41.05  \n",
              "4             978.4           825.5  360     44.30  "
            ],
            "text/html": [
              "\n",
              "  <div id=\"df-26639800-1dc5-48fb-9c8b-ed1d8cbb2ce1\">\n",
              "    <div class=\"colab-df-container\">\n",
              "      <div>\n",
              "<style scoped>\n",
              "    .dataframe tbody tr th:only-of-type {\n",
              "        vertical-align: middle;\n",
              "    }\n",
              "\n",
              "    .dataframe tbody tr th {\n",
              "        vertical-align: top;\n",
              "    }\n",
              "\n",
              "    .dataframe thead th {\n",
              "        text-align: right;\n",
              "    }\n",
              "</style>\n",
              "<table border=\"1\" class=\"dataframe\">\n",
              "  <thead>\n",
              "    <tr style=\"text-align: right;\">\n",
              "      <th></th>\n",
              "      <th>Cement</th>\n",
              "      <th>Blast Furnace Slag</th>\n",
              "      <th>Fly Ash</th>\n",
              "      <th>Water</th>\n",
              "      <th>Superplasticizer</th>\n",
              "      <th>Coarse Aggregate</th>\n",
              "      <th>Fine Aggregate</th>\n",
              "      <th>Age</th>\n",
              "      <th>Strength</th>\n",
              "    </tr>\n",
              "  </thead>\n",
              "  <tbody>\n",
              "    <tr>\n",
              "      <th>0</th>\n",
              "      <td>540.0</td>\n",
              "      <td>0.0</td>\n",
              "      <td>0.0</td>\n",
              "      <td>162.0</td>\n",
              "      <td>2.5</td>\n",
              "      <td>1040.0</td>\n",
              "      <td>676.0</td>\n",
              "      <td>28</td>\n",
              "      <td>79.99</td>\n",
              "    </tr>\n",
              "    <tr>\n",
              "      <th>1</th>\n",
              "      <td>540.0</td>\n",
              "      <td>0.0</td>\n",
              "      <td>0.0</td>\n",
              "      <td>162.0</td>\n",
              "      <td>2.5</td>\n",
              "      <td>1055.0</td>\n",
              "      <td>676.0</td>\n",
              "      <td>28</td>\n",
              "      <td>61.89</td>\n",
              "    </tr>\n",
              "    <tr>\n",
              "      <th>2</th>\n",
              "      <td>332.5</td>\n",
              "      <td>142.5</td>\n",
              "      <td>0.0</td>\n",
              "      <td>228.0</td>\n",
              "      <td>0.0</td>\n",
              "      <td>932.0</td>\n",
              "      <td>594.0</td>\n",
              "      <td>270</td>\n",
              "      <td>40.27</td>\n",
              "    </tr>\n",
              "    <tr>\n",
              "      <th>3</th>\n",
              "      <td>332.5</td>\n",
              "      <td>142.5</td>\n",
              "      <td>0.0</td>\n",
              "      <td>228.0</td>\n",
              "      <td>0.0</td>\n",
              "      <td>932.0</td>\n",
              "      <td>594.0</td>\n",
              "      <td>365</td>\n",
              "      <td>41.05</td>\n",
              "    </tr>\n",
              "    <tr>\n",
              "      <th>4</th>\n",
              "      <td>198.6</td>\n",
              "      <td>132.4</td>\n",
              "      <td>0.0</td>\n",
              "      <td>192.0</td>\n",
              "      <td>0.0</td>\n",
              "      <td>978.4</td>\n",
              "      <td>825.5</td>\n",
              "      <td>360</td>\n",
              "      <td>44.30</td>\n",
              "    </tr>\n",
              "  </tbody>\n",
              "</table>\n",
              "</div>\n",
              "      <button class=\"colab-df-convert\" onclick=\"convertToInteractive('df-26639800-1dc5-48fb-9c8b-ed1d8cbb2ce1')\"\n",
              "              title=\"Convert this dataframe to an interactive table.\"\n",
              "              style=\"display:none;\">\n",
              "        \n",
              "  <svg xmlns=\"http://www.w3.org/2000/svg\" height=\"24px\"viewBox=\"0 0 24 24\"\n",
              "       width=\"24px\">\n",
              "    <path d=\"M0 0h24v24H0V0z\" fill=\"none\"/>\n",
              "    <path d=\"M18.56 5.44l.94 2.06.94-2.06 2.06-.94-2.06-.94-.94-2.06-.94 2.06-2.06.94zm-11 1L8.5 8.5l.94-2.06 2.06-.94-2.06-.94L8.5 2.5l-.94 2.06-2.06.94zm10 10l.94 2.06.94-2.06 2.06-.94-2.06-.94-.94-2.06-.94 2.06-2.06.94z\"/><path d=\"M17.41 7.96l-1.37-1.37c-.4-.4-.92-.59-1.43-.59-.52 0-1.04.2-1.43.59L10.3 9.45l-7.72 7.72c-.78.78-.78 2.05 0 2.83L4 21.41c.39.39.9.59 1.41.59.51 0 1.02-.2 1.41-.59l7.78-7.78 2.81-2.81c.8-.78.8-2.07 0-2.86zM5.41 20L4 18.59l7.72-7.72 1.47 1.35L5.41 20z\"/>\n",
              "  </svg>\n",
              "      </button>\n",
              "      \n",
              "  <style>\n",
              "    .colab-df-container {\n",
              "      display:flex;\n",
              "      flex-wrap:wrap;\n",
              "      gap: 12px;\n",
              "    }\n",
              "\n",
              "    .colab-df-convert {\n",
              "      background-color: #E8F0FE;\n",
              "      border: none;\n",
              "      border-radius: 50%;\n",
              "      cursor: pointer;\n",
              "      display: none;\n",
              "      fill: #1967D2;\n",
              "      height: 32px;\n",
              "      padding: 0 0 0 0;\n",
              "      width: 32px;\n",
              "    }\n",
              "\n",
              "    .colab-df-convert:hover {\n",
              "      background-color: #E2EBFA;\n",
              "      box-shadow: 0px 1px 2px rgba(60, 64, 67, 0.3), 0px 1px 3px 1px rgba(60, 64, 67, 0.15);\n",
              "      fill: #174EA6;\n",
              "    }\n",
              "\n",
              "    [theme=dark] .colab-df-convert {\n",
              "      background-color: #3B4455;\n",
              "      fill: #D2E3FC;\n",
              "    }\n",
              "\n",
              "    [theme=dark] .colab-df-convert:hover {\n",
              "      background-color: #434B5C;\n",
              "      box-shadow: 0px 1px 3px 1px rgba(0, 0, 0, 0.15);\n",
              "      filter: drop-shadow(0px 1px 2px rgba(0, 0, 0, 0.3));\n",
              "      fill: #FFFFFF;\n",
              "    }\n",
              "  </style>\n",
              "\n",
              "      <script>\n",
              "        const buttonEl =\n",
              "          document.querySelector('#df-26639800-1dc5-48fb-9c8b-ed1d8cbb2ce1 button.colab-df-convert');\n",
              "        buttonEl.style.display =\n",
              "          google.colab.kernel.accessAllowed ? 'block' : 'none';\n",
              "\n",
              "        async function convertToInteractive(key) {\n",
              "          const element = document.querySelector('#df-26639800-1dc5-48fb-9c8b-ed1d8cbb2ce1');\n",
              "          const dataTable =\n",
              "            await google.colab.kernel.invokeFunction('convertToInteractive',\n",
              "                                                     [key], {});\n",
              "          if (!dataTable) return;\n",
              "\n",
              "          const docLinkHtml = 'Like what you see? Visit the ' +\n",
              "            '<a target=\"_blank\" href=https://colab.research.google.com/notebooks/data_table.ipynb>data table notebook</a>'\n",
              "            + ' to learn more about interactive tables.';\n",
              "          element.innerHTML = '';\n",
              "          dataTable['output_type'] = 'display_data';\n",
              "          await google.colab.output.renderOutput(dataTable, element);\n",
              "          const docLink = document.createElement('div');\n",
              "          docLink.innerHTML = docLinkHtml;\n",
              "          element.appendChild(docLink);\n",
              "        }\n",
              "      </script>\n",
              "    </div>\n",
              "  </div>\n",
              "  "
            ]
          },
          "metadata": {},
          "execution_count": 12
        }
      ],
      "source": [
        "import pandas as pd\n",
        "import numpy as np\n",
        "import keras\n",
        "\n",
        "from keras.models import Sequential\n",
        "from keras.layers import Dense\n",
        "# charger le jeu de données concrete_data\n",
        "concrete_data = pd.read_csv('https://cocl.us/concrete_data')\n",
        "\n",
        "# vérifier que les données ont été chargées correctement\n",
        "concrete_data.head()"
      ]
    },
    {
      "cell_type": "markdown",
      "source": [
        "# 2. Connaitre le nombre d'elements de notre dataset"
      ],
      "metadata": {
        "id": "u5poj69cegbA"
      }
    },
    {
      "cell_type": "code",
      "source": [
        "concrete_data.shape"
      ],
      "metadata": {
        "id": "AV3Mu0LjePHY",
        "outputId": "1c8f3501-f53c-49a7-aab7-9f4ce4daa9c6",
        "colab": {
          "base_uri": "https://localhost:8080/"
        }
      },
      "execution_count": 13,
      "outputs": [
        {
          "output_type": "execute_result",
          "data": {
            "text/plain": [
              "(1030, 9)"
            ]
          },
          "metadata": {},
          "execution_count": 13
        }
      ]
    },
    {
      "cell_type": "markdown",
      "source": [
        "# 3. Diviser l'ensemble de données en prédicteurs (entrées) et en cibles (sorties)"
      ],
      "metadata": {
        "id": "Q4kcA5uee2Kk"
      }
    },
    {
      "cell_type": "code",
      "execution_count": 3,
      "metadata": {
        "id": "p9UCDK5KLN6K"
      },
      "outputs": [],
      "source": [
        "\n",
        "predictors = concrete_data.drop(columns=['Strength'])\n",
        "target = concrete_data['Strength']\n",
        "n_cols = predictors.shape[1]"
      ]
    },
    {
      "cell_type": "markdown",
      "metadata": {
        "id": "KBBKst4xLN6K"
      },
      "source": [
        "# A. **Construction d'un modele de reference**\n",
        "1. Utilisez la bibliothèque Keras pour construire un réseau neuronal avec les caractéristiques suivantes :\n",
        "\n",
        "- Une couche cachée de 10 nœuds et une fonction d'activation ReLU.\n",
        "- Utilisez l'optimiseur adam et l'erreur quadratique moyenne comme fonction de perte.\n"
      ]
    },
    {
      "cell_type": "code",
      "execution_count": 4,
      "metadata": {
        "id": "PqWQwvDLLN6L"
      },
      "outputs": [],
      "source": [
        "# Créer le réseau neuronal dans une fonction afin de pouvoir l'utiliser plusieurs fois dans les sections suivantes\n",
        "def regression_model():\n",
        "    model = Sequential()\n",
        "    model.add(Dense(10, activation='relu', input_shape=(n_cols,)))\n",
        "    model.add(Dense(1))\n",
        "    model.compile(optimizer='adam', loss='mean_squared_error')\n",
        "    return model\n",
        "\n",
        "model = regression_model()"
      ]
    },
    {
      "cell_type": "markdown",
      "metadata": {
        "id": "kzx8jLhDLN6M"
      },
      "source": [
        "2. Divisez aléatoirement les données en deux ensembles, l'un pour la formation et l'autre pour le test, en réservant 30 % des données au test. Vous pouvez utiliser la fonction d'aide train_test_split de Scikit-learn."
      ]
    },
    {
      "cell_type": "code",
      "execution_count": 14,
      "metadata": {
        "id": "lkHRnk59LN6M",
        "outputId": "a37c4a4d-258b-4c98-a4c5-a4a1c79d7680",
        "colab": {
          "base_uri": "https://localhost:8080/"
        }
      },
      "outputs": [
        {
          "output_type": "execute_result",
          "data": {
            "text/plain": [
              "(721, 8)"
            ]
          },
          "metadata": {},
          "execution_count": 14
        }
      ],
      "source": [
        "from sklearn.model_selection import train_test_split\n",
        "\n",
        "predictors_train, predictors_test, target_train, target_test = train_test_split(predictors, target, \n",
        "                                                                                test_size=0.3, random_state=71)\n",
        "# Regardons la forme de l'ensemble des prédicteurs\n",
        "predictors_train.shape"
      ]
    },
    {
      "cell_type": "markdown",
      "metadata": {
        "id": "aThtmyWQLN6N"
      },
      "source": [
        "# 3. Entraînez le modèle sur les données d'entraînement en utilisant 50 époches."
      ]
    },
    {
      "cell_type": "code",
      "execution_count": 6,
      "metadata": {
        "id": "2aKYwF_ELN6O",
        "outputId": "43cefe74-c825-4a2b-d2fe-d487e5fe33fc",
        "colab": {
          "base_uri": "https://localhost:8080/"
        }
      },
      "outputs": [
        {
          "output_type": "stream",
          "name": "stdout",
          "text": [
            "Epoch 1/50\n",
            "23/23 [==============================] - 1s 2ms/step - loss: 1684.9044\n",
            "Epoch 2/50\n",
            "23/23 [==============================] - 0s 2ms/step - loss: 453.5331\n",
            "Epoch 3/50\n",
            "23/23 [==============================] - 0s 2ms/step - loss: 340.0059\n",
            "Epoch 4/50\n",
            "23/23 [==============================] - 0s 2ms/step - loss: 299.7891\n",
            "Epoch 5/50\n",
            "23/23 [==============================] - 0s 2ms/step - loss: 267.3736\n",
            "Epoch 6/50\n",
            "23/23 [==============================] - 0s 3ms/step - loss: 238.4565\n",
            "Epoch 7/50\n",
            "23/23 [==============================] - 0s 4ms/step - loss: 210.0276\n",
            "Epoch 8/50\n",
            "23/23 [==============================] - 0s 5ms/step - loss: 184.7528\n",
            "Epoch 9/50\n",
            "23/23 [==============================] - 0s 10ms/step - loss: 167.1296\n",
            "Epoch 10/50\n",
            "23/23 [==============================] - 0s 4ms/step - loss: 149.6841\n",
            "Epoch 11/50\n",
            "23/23 [==============================] - 0s 3ms/step - loss: 135.9281\n",
            "Epoch 12/50\n",
            "23/23 [==============================] - 0s 4ms/step - loss: 124.4445\n",
            "Epoch 13/50\n",
            "23/23 [==============================] - 0s 3ms/step - loss: 116.7097\n",
            "Epoch 14/50\n",
            "23/23 [==============================] - 0s 5ms/step - loss: 110.2457\n",
            "Epoch 15/50\n",
            "23/23 [==============================] - 0s 4ms/step - loss: 107.4453\n",
            "Epoch 16/50\n",
            "23/23 [==============================] - 0s 5ms/step - loss: 104.6845\n",
            "Epoch 17/50\n",
            "23/23 [==============================] - 0s 7ms/step - loss: 102.4900\n",
            "Epoch 18/50\n",
            "23/23 [==============================] - 0s 5ms/step - loss: 101.6419\n",
            "Epoch 19/50\n",
            "23/23 [==============================] - 0s 6ms/step - loss: 101.8906\n",
            "Epoch 20/50\n",
            "23/23 [==============================] - 0s 6ms/step - loss: 98.7871\n",
            "Epoch 21/50\n",
            "23/23 [==============================] - 0s 7ms/step - loss: 97.3009\n",
            "Epoch 22/50\n",
            "23/23 [==============================] - 0s 6ms/step - loss: 95.0634\n",
            "Epoch 23/50\n",
            "23/23 [==============================] - 0s 6ms/step - loss: 95.3340\n",
            "Epoch 24/50\n",
            "23/23 [==============================] - 0s 8ms/step - loss: 95.5193\n",
            "Epoch 25/50\n",
            "23/23 [==============================] - 0s 5ms/step - loss: 97.4412\n",
            "Epoch 26/50\n",
            "23/23 [==============================] - 0s 8ms/step - loss: 91.9496\n",
            "Epoch 27/50\n",
            "23/23 [==============================] - 0s 10ms/step - loss: 91.9824\n",
            "Epoch 28/50\n",
            "23/23 [==============================] - 0s 7ms/step - loss: 90.5146\n",
            "Epoch 29/50\n",
            "23/23 [==============================] - 0s 7ms/step - loss: 90.7503\n",
            "Epoch 30/50\n",
            "23/23 [==============================] - 0s 6ms/step - loss: 88.9247\n",
            "Epoch 31/50\n",
            "23/23 [==============================] - 0s 4ms/step - loss: 89.0524\n",
            "Epoch 32/50\n",
            "23/23 [==============================] - 0s 6ms/step - loss: 87.3191\n",
            "Epoch 33/50\n",
            "23/23 [==============================] - 0s 7ms/step - loss: 86.5412\n",
            "Epoch 34/50\n",
            "23/23 [==============================] - 0s 6ms/step - loss: 86.4719\n",
            "Epoch 35/50\n",
            "23/23 [==============================] - 0s 7ms/step - loss: 85.6810\n",
            "Epoch 36/50\n",
            "23/23 [==============================] - 0s 9ms/step - loss: 87.2726\n",
            "Epoch 37/50\n",
            "23/23 [==============================] - 0s 5ms/step - loss: 84.8416\n",
            "Epoch 38/50\n",
            "23/23 [==============================] - 0s 5ms/step - loss: 86.3905\n",
            "Epoch 39/50\n",
            "23/23 [==============================] - 0s 5ms/step - loss: 84.3196\n",
            "Epoch 40/50\n",
            "23/23 [==============================] - 0s 5ms/step - loss: 84.5182\n",
            "Epoch 41/50\n",
            "23/23 [==============================] - 0s 5ms/step - loss: 83.7096\n",
            "Epoch 42/50\n",
            "23/23 [==============================] - 0s 3ms/step - loss: 84.1314\n",
            "Epoch 43/50\n",
            "23/23 [==============================] - 0s 2ms/step - loss: 82.7570\n",
            "Epoch 44/50\n",
            "23/23 [==============================] - 0s 2ms/step - loss: 81.8958\n",
            "Epoch 45/50\n",
            "23/23 [==============================] - 0s 2ms/step - loss: 82.7079\n",
            "Epoch 46/50\n",
            "23/23 [==============================] - 0s 2ms/step - loss: 81.8459\n",
            "Epoch 47/50\n",
            "23/23 [==============================] - 0s 2ms/step - loss: 81.3195\n",
            "Epoch 48/50\n",
            "23/23 [==============================] - 0s 2ms/step - loss: 81.5570\n",
            "Epoch 49/50\n",
            "23/23 [==============================] - 0s 2ms/step - loss: 80.4820\n",
            "Epoch 50/50\n",
            "23/23 [==============================] - 0s 2ms/step - loss: 79.3833\n"
          ]
        },
        {
          "output_type": "execute_result",
          "data": {
            "text/plain": [
              "<keras.callbacks.History at 0x7fa052bd9580>"
            ]
          },
          "metadata": {},
          "execution_count": 6
        }
      ],
      "source": [
        "model.fit(predictors_train, target_train, epochs=50)"
      ]
    },
    {
      "cell_type": "markdown",
      "metadata": {
        "id": "2g67HmhvLN6O"
      },
      "source": [
        "4.  Évaluez le modèle sur les données d'essai et calculez l'erreur quadratique moyenne entre la résistance prédite du béton et la résistance réelle du béton. Vous pouvez utiliser la fonction mean_squared_error de Scikit-learn."
      ]
    },
    {
      "cell_type": "code",
      "execution_count": 15,
      "metadata": {
        "id": "ZyC67kELLN6P",
        "outputId": "2493bdf0-9f59-401e-8bcb-3c6681c296b8",
        "colab": {
          "base_uri": "https://localhost:8080/"
        }
      },
      "outputs": [
        {
          "output_type": "stream",
          "name": "stdout",
          "text": [
            "10/10 [==============================] - 0s 2ms/step\n",
            "Erreur quadratique moyenne sur les données de test est 76.354\n"
          ]
        }
      ],
      "source": [
        "predictions_test = model.predict(predictors_test)\n",
        "from sklearn.metrics import mean_squared_error\n",
        "print('Erreur quadratique moyenne sur les données de test est %.3f' % (mean_squared_error(target_test, predictions_test)))"
      ]
    },
    {
      "cell_type": "markdown",
      "metadata": {
        "id": "TmyuQkUvLN6Q"
      },
      "source": [
        "5. Répétez les étapes 2 à 4, 50 fois, c'est-à-dire créez une liste de 50 erreurs quadratiques moyennes.\n",
        "6. Indiquez la moyenne et l'écart-type des erreurs quadratiques moyennes."
      ]
    },
    {
      "cell_type": "code",
      "execution_count": 8,
      "metadata": {
        "id": "bbqouVQMLN6Q"
      },
      "outputs": [],
      "source": [
        "# Créer une fonction qui évalue le modèle afin que nous puissions l'utiliser pour évaluer les modèles créés dans les parties A, B, C et D\n",
        "# Le paramètre 'create_model_func' est la fonction utilisée pour construire le modèle. Pour la partie A, il s'agit de la fonction\n",
        "# fonction regression_model définie ci-dessus\n",
        "def evaluate_model(create_model_func, predictors, targets, epochs=50):\n",
        "    mean_squared_errors = []\n",
        "    for i in range(50):\n",
        "      # créer le modèle. nous  n'étions pas sûr à 100% que cela devait se faire à l'intérieur de la boucle, mais nous  pensons que c'était.\n",
        "      # l'intention de la question. Sinon, la moyenne et l'écart-type de l'erreur quadratique moyenne ne sont pas très significatifs\n",
        "        model = create_model_func()\n",
        "     # 1. diviser les données en un ensemble de formation et un ensemble de test\n",
        "        predictors_train, predictors_test, target_train, target_test = train_test_split(predictors, target, \n",
        "                                                                                    test_size=0.3, random_state=71)\n",
        "       # 2. 50 époches d'entraînement (suppression de l'enregistrement cette fois)\n",
        "        model.fit(predictors_train, target_train, epochs=epochs, verbose=0)\n",
        "       # 3. mesurer le mse et l'ajouter à la liste\n",
        "        predictions_test = model.predict(predictors_test)\n",
        "        mse = mean_squared_error(target_test, predictions_test)\n",
        "        mean_squared_errors.append(mse)\n",
        "        print('.', end='') # affiche un point pour que nous puissions voir que la fonction est toujours en cours d'exécution\n",
        "    print(' Done!')\n",
        "   # renvoie la moyenne et l'écart-type de la liste mse\n",
        "    return np.mean(mean_squared_errors), np.std(mean_squared_errors)"
      ]
    },
    {
      "cell_type": "code",
      "execution_count": 16,
      "metadata": {
        "id": "kK_ZMKjlLN6S",
        "outputId": "14f2208a-ddf5-4419-c8b9-e7ec606a1121",
        "colab": {
          "base_uri": "https://localhost:8080/"
        }
      },
      "outputs": [
        {
          "output_type": "stream",
          "name": "stdout",
          "text": [
            "10/10 [==============================] - 0s 2ms/step\n",
            "10/10 [==============================] - 0s 2ms/step\n",
            "10/10 [==============================] - 0s 2ms/step\n",
            "10/10 [==============================] - 0s 3ms/step\n",
            "10/10 [==============================] - 0s 2ms/step\n",
            "10/10 [==============================] - 0s 2ms/step\n",
            "10/10 [==============================] - 0s 2ms/step\n",
            "10/10 [==============================] - 0s 3ms/step\n",
            "10/10 [==============================] - 0s 2ms/step\n",
            "10/10 [==============================] - 0s 2ms/step\n",
            "10/10 [==============================] - 0s 2ms/step\n",
            "10/10 [==============================] - 0s 3ms/step\n",
            "10/10 [==============================] - 0s 2ms/step\n",
            "10/10 [==============================] - 0s 2ms/step\n",
            "10/10 [==============================] - 0s 2ms/step\n",
            "10/10 [==============================] - 0s 2ms/step\n",
            "10/10 [==============================] - 0s 3ms/step\n",
            "10/10 [==============================] - 0s 3ms/step\n",
            "10/10 [==============================] - 0s 2ms/step\n",
            "10/10 [==============================] - 0s 2ms/step\n",
            "10/10 [==============================] - 0s 2ms/step\n",
            "10/10 [==============================] - 0s 2ms/step\n",
            "10/10 [==============================] - 0s 3ms/step\n",
            "10/10 [==============================] - 0s 2ms/step\n",
            "10/10 [==============================] - 0s 2ms/step\n",
            "10/10 [==============================] - 0s 2ms/step\n",
            "10/10 [==============================] - 0s 3ms/step\n",
            "10/10 [==============================] - 0s 2ms/step\n",
            "10/10 [==============================] - 0s 3ms/step\n",
            "10/10 [==============================] - 0s 2ms/step\n",
            "10/10 [==============================] - 0s 3ms/step\n",
            "10/10 [==============================] - 0s 2ms/step\n",
            "10/10 [==============================] - 0s 2ms/step\n",
            "10/10 [==============================] - 0s 2ms/step\n",
            "10/10 [==============================] - 0s 3ms/step\n",
            "10/10 [==============================] - 0s 2ms/step\n",
            "10/10 [==============================] - 0s 2ms/step\n",
            "10/10 [==============================] - 0s 2ms/step\n",
            "10/10 [==============================] - 0s 3ms/step\n",
            "10/10 [==============================] - 0s 2ms/step\n",
            "10/10 [==============================] - 0s 2ms/step\n",
            "10/10 [==============================] - 0s 2ms/step\n",
            "10/10 [==============================] - 0s 3ms/step\n",
            "10/10 [==============================] - 0s 2ms/step\n",
            "10/10 [==============================] - 0s 2ms/step\n",
            "10/10 [==============================] - 0s 2ms/step\n",
            "10/10 [==============================] - 0s 2ms/step\n",
            "10/10 [==============================] - 0s 2ms/step\n",
            "10/10 [==============================] - 0s 2ms/step\n",
            "10/10 [==============================] - 0s 2ms/step\n",
            ". Done!\n",
            "Erreurs quadratiques moyennes pour 50 modèles de régression : moyenne = 287.837, std dev = 303.087\n"
          ]
        }
      ],
      "source": [
        "# Évaluer le modèle et imprimer la moyenne et l'écart-type des erreurs quadratiques moyennes. Notez que nous passons ici \n",
        "# la _fonction_modèle_ de régression ici. Elle est utilisée dans la fonction evaluate_model pour créer un nouveau # réseau neuronal à chaque boucle.\n",
        "# nouveau réseau neuronal dans chaque boucle\n",
        "mean_mse, std_mse = evaluate_model(regression_model, predictors, target)\n",
        "# Report the mean and stddev of the mean squared errors\n",
        "print(\"Erreurs quadratiques moyennes pour 50 modèles de régression : moyenne = %.3f, std dev = %.3f\" %(mean_mse, std_mse))"
      ]
    },
    {
      "cell_type": "markdown",
      "metadata": {
        "id": "tLZ0vGkdLN6T"
      },
      "source": [
        "# **B. Normalisation des donnees**\n",
        "\n",
        "Répétez la partie A mais utilisez une version normalisée des données. Rappelez qu'une façon de normaliser les données consiste à soustraire la moyenne des prédicteurs individuels et à la diviser par l'écart-type."
      ]
    },
    {
      "cell_type": "code",
      "execution_count": null,
      "metadata": {
        "id": "sN7Y4GngLN6T",
        "outputId": "97c00d8c-21d4-4455-ac41-aa217fa25908",
        "colab": {
          "base_uri": "https://localhost:8080/",
          "height": 206
        }
      },
      "outputs": [
        {
          "output_type": "execute_result",
          "data": {
            "text/plain": [
              "     Cement  Blast Furnace Slag   Fly Ash     Water  Superplasticizer  \\\n",
              "0  2.476712           -0.856472 -0.846733 -0.916319         -0.620147   \n",
              "1  2.476712           -0.856472 -0.846733 -0.916319         -0.620147   \n",
              "2  0.491187            0.795140 -0.846733  2.174405         -1.038638   \n",
              "3  0.491187            0.795140 -0.846733  2.174405         -1.038638   \n",
              "4 -0.790075            0.678079 -0.846733  0.488555         -1.038638   \n",
              "\n",
              "   Coarse Aggregate  Fine Aggregate       Age  \n",
              "0          0.862735       -1.217079 -0.279597  \n",
              "1          1.055651       -1.217079 -0.279597  \n",
              "2         -0.526262       -2.239829  3.551340  \n",
              "3         -0.526262       -2.239829  5.055221  \n",
              "4          0.070492        0.647569  4.976069  "
            ],
            "text/html": [
              "\n",
              "  <div id=\"df-dac8ac1f-e5a1-4502-9f35-e54e43b9c565\">\n",
              "    <div class=\"colab-df-container\">\n",
              "      <div>\n",
              "<style scoped>\n",
              "    .dataframe tbody tr th:only-of-type {\n",
              "        vertical-align: middle;\n",
              "    }\n",
              "\n",
              "    .dataframe tbody tr th {\n",
              "        vertical-align: top;\n",
              "    }\n",
              "\n",
              "    .dataframe thead th {\n",
              "        text-align: right;\n",
              "    }\n",
              "</style>\n",
              "<table border=\"1\" class=\"dataframe\">\n",
              "  <thead>\n",
              "    <tr style=\"text-align: right;\">\n",
              "      <th></th>\n",
              "      <th>Cement</th>\n",
              "      <th>Blast Furnace Slag</th>\n",
              "      <th>Fly Ash</th>\n",
              "      <th>Water</th>\n",
              "      <th>Superplasticizer</th>\n",
              "      <th>Coarse Aggregate</th>\n",
              "      <th>Fine Aggregate</th>\n",
              "      <th>Age</th>\n",
              "    </tr>\n",
              "  </thead>\n",
              "  <tbody>\n",
              "    <tr>\n",
              "      <th>0</th>\n",
              "      <td>2.476712</td>\n",
              "      <td>-0.856472</td>\n",
              "      <td>-0.846733</td>\n",
              "      <td>-0.916319</td>\n",
              "      <td>-0.620147</td>\n",
              "      <td>0.862735</td>\n",
              "      <td>-1.217079</td>\n",
              "      <td>-0.279597</td>\n",
              "    </tr>\n",
              "    <tr>\n",
              "      <th>1</th>\n",
              "      <td>2.476712</td>\n",
              "      <td>-0.856472</td>\n",
              "      <td>-0.846733</td>\n",
              "      <td>-0.916319</td>\n",
              "      <td>-0.620147</td>\n",
              "      <td>1.055651</td>\n",
              "      <td>-1.217079</td>\n",
              "      <td>-0.279597</td>\n",
              "    </tr>\n",
              "    <tr>\n",
              "      <th>2</th>\n",
              "      <td>0.491187</td>\n",
              "      <td>0.795140</td>\n",
              "      <td>-0.846733</td>\n",
              "      <td>2.174405</td>\n",
              "      <td>-1.038638</td>\n",
              "      <td>-0.526262</td>\n",
              "      <td>-2.239829</td>\n",
              "      <td>3.551340</td>\n",
              "    </tr>\n",
              "    <tr>\n",
              "      <th>3</th>\n",
              "      <td>0.491187</td>\n",
              "      <td>0.795140</td>\n",
              "      <td>-0.846733</td>\n",
              "      <td>2.174405</td>\n",
              "      <td>-1.038638</td>\n",
              "      <td>-0.526262</td>\n",
              "      <td>-2.239829</td>\n",
              "      <td>5.055221</td>\n",
              "    </tr>\n",
              "    <tr>\n",
              "      <th>4</th>\n",
              "      <td>-0.790075</td>\n",
              "      <td>0.678079</td>\n",
              "      <td>-0.846733</td>\n",
              "      <td>0.488555</td>\n",
              "      <td>-1.038638</td>\n",
              "      <td>0.070492</td>\n",
              "      <td>0.647569</td>\n",
              "      <td>4.976069</td>\n",
              "    </tr>\n",
              "  </tbody>\n",
              "</table>\n",
              "</div>\n",
              "      <button class=\"colab-df-convert\" onclick=\"convertToInteractive('df-dac8ac1f-e5a1-4502-9f35-e54e43b9c565')\"\n",
              "              title=\"Convert this dataframe to an interactive table.\"\n",
              "              style=\"display:none;\">\n",
              "        \n",
              "  <svg xmlns=\"http://www.w3.org/2000/svg\" height=\"24px\"viewBox=\"0 0 24 24\"\n",
              "       width=\"24px\">\n",
              "    <path d=\"M0 0h24v24H0V0z\" fill=\"none\"/>\n",
              "    <path d=\"M18.56 5.44l.94 2.06.94-2.06 2.06-.94-2.06-.94-.94-2.06-.94 2.06-2.06.94zm-11 1L8.5 8.5l.94-2.06 2.06-.94-2.06-.94L8.5 2.5l-.94 2.06-2.06.94zm10 10l.94 2.06.94-2.06 2.06-.94-2.06-.94-.94-2.06-.94 2.06-2.06.94z\"/><path d=\"M17.41 7.96l-1.37-1.37c-.4-.4-.92-.59-1.43-.59-.52 0-1.04.2-1.43.59L10.3 9.45l-7.72 7.72c-.78.78-.78 2.05 0 2.83L4 21.41c.39.39.9.59 1.41.59.51 0 1.02-.2 1.41-.59l7.78-7.78 2.81-2.81c.8-.78.8-2.07 0-2.86zM5.41 20L4 18.59l7.72-7.72 1.47 1.35L5.41 20z\"/>\n",
              "  </svg>\n",
              "      </button>\n",
              "      \n",
              "  <style>\n",
              "    .colab-df-container {\n",
              "      display:flex;\n",
              "      flex-wrap:wrap;\n",
              "      gap: 12px;\n",
              "    }\n",
              "\n",
              "    .colab-df-convert {\n",
              "      background-color: #E8F0FE;\n",
              "      border: none;\n",
              "      border-radius: 50%;\n",
              "      cursor: pointer;\n",
              "      display: none;\n",
              "      fill: #1967D2;\n",
              "      height: 32px;\n",
              "      padding: 0 0 0 0;\n",
              "      width: 32px;\n",
              "    }\n",
              "\n",
              "    .colab-df-convert:hover {\n",
              "      background-color: #E2EBFA;\n",
              "      box-shadow: 0px 1px 2px rgba(60, 64, 67, 0.3), 0px 1px 3px 1px rgba(60, 64, 67, 0.15);\n",
              "      fill: #174EA6;\n",
              "    }\n",
              "\n",
              "    [theme=dark] .colab-df-convert {\n",
              "      background-color: #3B4455;\n",
              "      fill: #D2E3FC;\n",
              "    }\n",
              "\n",
              "    [theme=dark] .colab-df-convert:hover {\n",
              "      background-color: #434B5C;\n",
              "      box-shadow: 0px 1px 3px 1px rgba(0, 0, 0, 0.15);\n",
              "      filter: drop-shadow(0px 1px 2px rgba(0, 0, 0, 0.3));\n",
              "      fill: #FFFFFF;\n",
              "    }\n",
              "  </style>\n",
              "\n",
              "      <script>\n",
              "        const buttonEl =\n",
              "          document.querySelector('#df-dac8ac1f-e5a1-4502-9f35-e54e43b9c565 button.colab-df-convert');\n",
              "        buttonEl.style.display =\n",
              "          google.colab.kernel.accessAllowed ? 'block' : 'none';\n",
              "\n",
              "        async function convertToInteractive(key) {\n",
              "          const element = document.querySelector('#df-dac8ac1f-e5a1-4502-9f35-e54e43b9c565');\n",
              "          const dataTable =\n",
              "            await google.colab.kernel.invokeFunction('convertToInteractive',\n",
              "                                                     [key], {});\n",
              "          if (!dataTable) return;\n",
              "\n",
              "          const docLinkHtml = 'Like what you see? Visit the ' +\n",
              "            '<a target=\"_blank\" href=https://colab.research.google.com/notebooks/data_table.ipynb>data table notebook</a>'\n",
              "            + ' to learn more about interactive tables.';\n",
              "          element.innerHTML = '';\n",
              "          dataTable['output_type'] = 'display_data';\n",
              "          await google.colab.output.renderOutput(dataTable, element);\n",
              "          const docLink = document.createElement('div');\n",
              "          docLink.innerHTML = docLinkHtml;\n",
              "          element.appendChild(docLink);\n",
              "        }\n",
              "      </script>\n",
              "    </div>\n",
              "  </div>\n",
              "  "
            ]
          },
          "metadata": {},
          "execution_count": 36
        }
      ],
      "source": [
        "# Normaliser les données\n",
        "predictors_norm = (predictors - predictors.mean()) / predictors.std()\n",
        "predictors_norm.head()"
      ]
    },
    {
      "cell_type": "code",
      "execution_count": 11,
      "metadata": {
        "id": "jry0vYZRLN6U",
        "outputId": "bff82b67-79e2-4b4a-f37e-d679f013753b",
        "colab": {
          "base_uri": "https://localhost:8080/",
          "height": 217
        }
      },
      "outputs": [
        {
          "output_type": "error",
          "ename": "NameError",
          "evalue": "ignored",
          "traceback": [
            "\u001b[0;31m---------------------------------------------------------------------------\u001b[0m",
            "\u001b[0;31mNameError\u001b[0m                                 Traceback (most recent call last)",
            "\u001b[0;32m<ipython-input-11-ab4126c66aac>\u001b[0m in \u001b[0;36m<cell line: 1>\u001b[0;34m()\u001b[0m\n\u001b[0;32m----> 1\u001b[0;31m \u001b[0mmean_mse\u001b[0m\u001b[0;34m,\u001b[0m \u001b[0mstd_mse\u001b[0m \u001b[0;34m=\u001b[0m \u001b[0mevaluate_model\u001b[0m\u001b[0;34m(\u001b[0m\u001b[0mregression_model\u001b[0m\u001b[0;34m,\u001b[0m \u001b[0mpredictors_norm\u001b[0m\u001b[0;34m,\u001b[0m \u001b[0mtarget\u001b[0m\u001b[0;34m)\u001b[0m\u001b[0;34m\u001b[0m\u001b[0;34m\u001b[0m\u001b[0m\n\u001b[0m\u001b[1;32m      2\u001b[0m \u001b[0;31m# Indiquer la moyenne et l'écart-type des erreurs quadratiques moyennes\u001b[0m\u001b[0;34m\u001b[0m\u001b[0;34m\u001b[0m\u001b[0m\n\u001b[1;32m      3\u001b[0m print(\"Erreurs quadratiques moyennes pour 50 modèles de régression sur des données normalisées : moyenne = %.3f, std dev = %.3f\" % \n\u001b[1;32m      4\u001b[0m       (mean_mse, std_mse))\n",
            "\u001b[0;31mNameError\u001b[0m: name 'predictors_norm' is not defined"
          ]
        }
      ],
      "source": [
        "mean_mse, std_mse = evaluate_model(regression_model, predictors_norm, target)\n",
        "# Indiquer la moyenne et l'écart-type des erreurs quadratiques moyennes\n",
        "print(\"Erreurs quadratiques moyennes pour 50 modèles de régression sur des données normalisées : moyenne = %.3f, std dev = %.3f\" % \n",
        "      (mean_mse, std_mse))"
      ]
    },
    {
      "cell_type": "markdown",
      "metadata": {
        "id": "WGvHXCOnLN6U"
      },
      "source": [
        "**Comment la moyenne des erreurs quadratiques moyennes se compare-t-elle à celle de l'étape A ?**\n",
        "\n",
        "La moyenne des erreurs quadratiques moyennes a légèrement baissé (~10%), mais l'écart-type a baissé de manière significative. Cela signifie qu'en utilisant des données normalisées, la performance sur l'ensemble de test dépend beaucoup moins de la façon dont les données ont été divisées (aléatoirement) en un ensemble de données d'entraînement et un ensemble de données de test."
      ]
    },
    {
      "cell_type": "markdown",
      "metadata": {
        "id": "hWs9sfBaLN6V"
      },
      "source": [
        "# **C. Incrementation du nombre d'époches**\n",
        "\n",
        "Répétez la partie B **mais utilisez cette fois 100 époques pour l'entraînement.**"
      ]
    },
    {
      "cell_type": "code",
      "execution_count": 10,
      "metadata": {
        "id": "4J-7-autLN6V",
        "outputId": "9b77afc0-19d6-4974-868c-e5aee2f901e3",
        "colab": {
          "base_uri": "https://localhost:8080/",
          "height": 235
        }
      },
      "outputs": [
        {
          "output_type": "error",
          "ename": "NameError",
          "evalue": "ignored",
          "traceback": [
            "\u001b[0;31m---------------------------------------------------------------------------\u001b[0m",
            "\u001b[0;31mNameError\u001b[0m                                 Traceback (most recent call last)",
            "\u001b[0;32m<ipython-input-10-e8de0311bf36>\u001b[0m in \u001b[0;36m<cell line: 1>\u001b[0;34m()\u001b[0m\n\u001b[0;32m----> 1\u001b[0;31m \u001b[0mmean_mse\u001b[0m\u001b[0;34m,\u001b[0m \u001b[0mstd_mse\u001b[0m \u001b[0;34m=\u001b[0m \u001b[0mevaluate_model\u001b[0m\u001b[0;34m(\u001b[0m\u001b[0mregression_model\u001b[0m\u001b[0;34m,\u001b[0m \u001b[0mpredictors_norm\u001b[0m\u001b[0;34m,\u001b[0m \u001b[0mtarget\u001b[0m\u001b[0;34m,\u001b[0m \u001b[0mepochs\u001b[0m\u001b[0;34m=\u001b[0m\u001b[0;36m100\u001b[0m\u001b[0;34m)\u001b[0m\u001b[0;34m\u001b[0m\u001b[0;34m\u001b[0m\u001b[0m\n\u001b[0m\u001b[1;32m      2\u001b[0m \u001b[0;31m# Indiquer la moyenne et l'écart-type des erreurs quadratiques moyennes\u001b[0m\u001b[0;34m\u001b[0m\u001b[0;34m\u001b[0m\u001b[0m\n\u001b[1;32m      3\u001b[0m print(\"Erreurs quadratiques moyennes pour 50 modèles de régression sur des données normalisées, entraînés sur 100 époches : moyenne = %.3f, std dev = %.3f\" % \n\u001b[1;32m      4\u001b[0m       (mean_mse, std_mse))\n",
            "\u001b[0;31mNameError\u001b[0m: name 'predictors_norm' is not defined"
          ]
        }
      ],
      "source": [
        "mean_mse, std_mse = evaluate_model(regression_model, predictors_norm, target, epochs=100)\n",
        "# Indiquer la moyenne et l'écart-type des erreurs quadratiques moyennes\n",
        "print(\"Erreurs quadratiques moyennes pour 50 modèles de régression sur des données normalisées, entraînés sur 100 époches : moyenne = %.3f, std dev = %.3f\" % \n",
        "      (mean_mse, std_mse))"
      ]
    },
    {
      "cell_type": "markdown",
      "metadata": {
        "id": "a-loyzBFLN6W"
      },
      "source": [
        "**Comment la moyenne des erreurs quadratiques moyennes se compare-t-elle à celle de l'étape B ?**\n",
        "\n",
        "L'erreur quadratique moyenne sur l'ensemble de test a été réduite de plus de moitié. Il est clair qu'il y a beaucoup de progrès à faire avec un entraînement supplémentaire. L'écart-type a également beaucoup diminué."
      ]
    },
    {
      "cell_type": "markdown",
      "metadata": {
        "id": "Hkx31jEkLN6W"
      },
      "source": [
        "# **C. Augmentation du  nombre de couches cachées**\n",
        "\n",
        "Répétez la partie B mais utilisez un réseau neuronal avec les éléments suivants à la place :\n",
        "\n",
        "- Trois couches cachées de 10 nœuds chacune et une fonction d'activation ReLU."
      ]
    },
    {
      "cell_type": "code",
      "execution_count": null,
      "metadata": {
        "id": "uQLhkDc2LN6X",
        "outputId": "4efbce45-bafb-454d-a72a-d5a4ecb2c5fd"
      },
      "outputs": [
        {
          "name": "stdout",
          "output_type": "stream",
          "text": [
            ".................................................. Done!\n",
            "Mean squared errors for 50 regression models with 3 hidden layers: mean = 122.131, std dev = 13.626\n"
          ]
        }
      ],
      "source": [
        "def regression_model_D():\n",
        "    model = Sequential()\n",
        "    model.add(Dense(10, activation='relu', input_shape=(n_cols,)))\n",
        "    model.add(Dense(10, activation='relu'))\n",
        "    model.add(Dense(10, activation='relu'))\n",
        "    model.add(Dense(1))\n",
        "    model.compile(optimizer='adam', loss='mean_squared_error')\n",
        "    return model\n",
        "\n",
        "# Évaluer le modèle D\n",
        "mean_mse, std_mse = evaluate_model(regression_model_D, predictors_norm, target)\n",
        "# Indiquer la moyenne et l'écart-type des erreurs quadratiques moyennes\n",
        "print(\"Erreurs quadratiques moyennes pour 50 modèles de régression à 3 couches cachées : moyenne = %.3f, std dev = %.3f\" % \n",
        "      (mean_mse, std_mse))"
      ]
    },
    {
      "cell_type": "markdown",
      "metadata": {
        "id": "NtW2It2ILN6Z"
      },
      "source": [
        "**Comment la moyenne des erreurs quadratiques moyennes se compare-t-elle à celle de l'étape B ?**\n",
        "\n",
        "La moyenne des erreurs quadratiques moyennes est bien meilleure que dans la partie B (123 contre 321). Cela montre que le réseau à plusieurs couches cachées a appris à prédire la caractéristique \"force\" beaucoup mieux que le réseau à une seule couche."
      ]
    },
    {
      "cell_type": "markdown",
      "source": [
        "# **Conclusion**"
      ],
      "metadata": {
        "id": "0h-m2S9tfYkR"
      }
    },
    {
      "cell_type": "markdown",
      "source": [],
      "metadata": {
        "id": "YR-lcXCGf57r"
      }
    }
  ],
  "metadata": {
    "kernelspec": {
      "display_name": "Python 3",
      "language": "python",
      "name": "python3"
    },
    "language_info": {
      "codemirror_mode": {
        "name": "ipython",
        "version": 3
      },
      "file_extension": ".py",
      "mimetype": "text/x-python",
      "name": "python",
      "nbconvert_exporter": "python",
      "pygments_lexer": "ipython3",
      "version": "3.7.4"
    },
    "colab": {
      "provenance": [],
      "include_colab_link": true
    }
  },
  "nbformat": 4,
  "nbformat_minor": 0
}