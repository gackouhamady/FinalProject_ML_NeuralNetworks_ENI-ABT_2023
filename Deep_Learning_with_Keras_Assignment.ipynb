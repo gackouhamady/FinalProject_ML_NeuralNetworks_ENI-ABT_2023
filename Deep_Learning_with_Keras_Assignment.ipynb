{
  "cells": [
    {
      "cell_type": "markdown",
      "metadata": {
        "id": "view-in-github",
        "colab_type": "text"
      },
      "source": [
        "<a href=\"https://colab.research.google.com/github/gackouhamady/FinalProject_ML_NeuralNetworks_ENI-ABT_2023/blob/main/Deep_Learning_with_Keras_Assignment.ipynb\" target=\"_parent\"><img src=\"https://colab.research.google.com/assets/colab-badge.svg\" alt=\"Open In Colab\"/></a>"
      ]
    },
    {
      "cell_type": "markdown",
      "source": [
        "# **Sommaire :**\n",
        "\n",
        "\n",
        "**Contexte**\n",
        "\n",
        "\n",
        "A. **Construction d'un modèle de référence**\n",
        "\n",
        "\n",
        "\n",
        "B.   **Normalisation des données**\n",
        "\n",
        "\n",
        "\n",
        "C.   **Incrementation du nombre d'époques**\n",
        "\n",
        "\n",
        "\n",
        "D.   **Augmentation du nombre de couches cachés**\n",
        "\n",
        "\n",
        "\n",
        "   **Conclusion**\n",
        "\n",
        "\n",
        "\n",
        "\n",
        "\n",
        "\n",
        "\n"
      ],
      "metadata": {
        "id": "9BVr0WHuftgx"
      }
    },
    {
      "cell_type": "markdown",
      "source": [
        "#  **Contexte**\n",
        "Dans ce projet, nous construirons un modèle de régression à l'aide de la bibliothèque d'apprentissage en profondeur Keras, puis nous expérimenterons l'augmentation du nombre d'époques de formation et la modification du nombre de couches cachées et nous verrons comment la modification de ces paramètres affecte les performances du modèle. Pour la commodité, les données peuvent être retrouvées ici :https://cocl.us/concrete_data .  \n",
        "Le jeu de données est un ensemble de données sur la résistance à la compression de différents échantillons de béton en fonction des volumes des différents matériaux utilisés pour les fabriquer. Le premier échantillon de béton contient 540 m3 de ciment, 0 m3 de laitier de haut fourneau, 0 m3 de cendres volantes, 162 m3 d'eau, 2,5 m3 de superplastifiant, 1 040 m3 de gros granulats et 676 m3 de granulats fins. Ce mélange de béton, âgé de 28 jours, a une résistance à la compression de 79,99 MPa. Les données se trouvent dans un cadre de données pandas nommé concrete_data.  \n",
        "L'objectif est de construire  un réseau neuronal profond afin de modéliser cet ensemble de données et de déterminer automatiquement la résistance à la compression d'un échantillon de béton donné en fonction de ses ingrédients."
      ],
      "metadata": {
        "id": "F7B6eAizh7UQ"
      }
    },
    {
      "cell_type": "markdown",
      "metadata": {
        "id": "06CshF9iLN5y"
      },
      "source": [
        "# 1. Préparer l'environnement\n",
        "\n",
        "Tout d'abord, procédons à quelques importations et téléchargeons l'ensemble des données."
      ]
    },
    {
      "cell_type": "code",
      "execution_count": 12,
      "metadata": {
        "colab": {
          "base_uri": "https://localhost:8080/",
          "height": 206
        },
        "id": "5bHNwg-lLN6G",
        "outputId": "6ed311ab-c372-422d-8639-3456f29d2161"
      },
      "outputs": [
        {
          "output_type": "execute_result",
          "data": {
            "text/plain": [
              "   Cement  Blast Furnace Slag  Fly Ash  Water  Superplasticizer  \\\n",
              "0   540.0                 0.0      0.0  162.0               2.5   \n",
              "1   540.0                 0.0      0.0  162.0               2.5   \n",
              "2   332.5               142.5      0.0  228.0               0.0   \n",
              "3   332.5               142.5      0.0  228.0               0.0   \n",
              "4   198.6               132.4      0.0  192.0               0.0   \n",
              "\n",
              "   Coarse Aggregate  Fine Aggregate  Age  Strength  \n",
              "0            1040.0           676.0   28     79.99  \n",
              "1            1055.0           676.0   28     61.89  \n",
              "2             932.0           594.0  270     40.27  \n",
              "3             932.0           594.0  365     41.05  \n",
              "4             978.4           825.5  360     44.30  "
            ],
            "text/html": [
              "\n",
              "  <div id=\"df-26639800-1dc5-48fb-9c8b-ed1d8cbb2ce1\">\n",
              "    <div class=\"colab-df-container\">\n",
              "      <div>\n",
              "<style scoped>\n",
              "    .dataframe tbody tr th:only-of-type {\n",
              "        vertical-align: middle;\n",
              "    }\n",
              "\n",
              "    .dataframe tbody tr th {\n",
              "        vertical-align: top;\n",
              "    }\n",
              "\n",
              "    .dataframe thead th {\n",
              "        text-align: right;\n",
              "    }\n",
              "</style>\n",
              "<table border=\"1\" class=\"dataframe\">\n",
              "  <thead>\n",
              "    <tr style=\"text-align: right;\">\n",
              "      <th></th>\n",
              "      <th>Cement</th>\n",
              "      <th>Blast Furnace Slag</th>\n",
              "      <th>Fly Ash</th>\n",
              "      <th>Water</th>\n",
              "      <th>Superplasticizer</th>\n",
              "      <th>Coarse Aggregate</th>\n",
              "      <th>Fine Aggregate</th>\n",
              "      <th>Age</th>\n",
              "      <th>Strength</th>\n",
              "    </tr>\n",
              "  </thead>\n",
              "  <tbody>\n",
              "    <tr>\n",
              "      <th>0</th>\n",
              "      <td>540.0</td>\n",
              "      <td>0.0</td>\n",
              "      <td>0.0</td>\n",
              "      <td>162.0</td>\n",
              "      <td>2.5</td>\n",
              "      <td>1040.0</td>\n",
              "      <td>676.0</td>\n",
              "      <td>28</td>\n",
              "      <td>79.99</td>\n",
              "    </tr>\n",
              "    <tr>\n",
              "      <th>1</th>\n",
              "      <td>540.0</td>\n",
              "      <td>0.0</td>\n",
              "      <td>0.0</td>\n",
              "      <td>162.0</td>\n",
              "      <td>2.5</td>\n",
              "      <td>1055.0</td>\n",
              "      <td>676.0</td>\n",
              "      <td>28</td>\n",
              "      <td>61.89</td>\n",
              "    </tr>\n",
              "    <tr>\n",
              "      <th>2</th>\n",
              "      <td>332.5</td>\n",
              "      <td>142.5</td>\n",
              "      <td>0.0</td>\n",
              "      <td>228.0</td>\n",
              "      <td>0.0</td>\n",
              "      <td>932.0</td>\n",
              "      <td>594.0</td>\n",
              "      <td>270</td>\n",
              "      <td>40.27</td>\n",
              "    </tr>\n",
              "    <tr>\n",
              "      <th>3</th>\n",
              "      <td>332.5</td>\n",
              "      <td>142.5</td>\n",
              "      <td>0.0</td>\n",
              "      <td>228.0</td>\n",
              "      <td>0.0</td>\n",
              "      <td>932.0</td>\n",
              "      <td>594.0</td>\n",
              "      <td>365</td>\n",
              "      <td>41.05</td>\n",
              "    </tr>\n",
              "    <tr>\n",
              "      <th>4</th>\n",
              "      <td>198.6</td>\n",
              "      <td>132.4</td>\n",
              "      <td>0.0</td>\n",
              "      <td>192.0</td>\n",
              "      <td>0.0</td>\n",
              "      <td>978.4</td>\n",
              "      <td>825.5</td>\n",
              "      <td>360</td>\n",
              "      <td>44.30</td>\n",
              "    </tr>\n",
              "  </tbody>\n",
              "</table>\n",
              "</div>\n",
              "      <button class=\"colab-df-convert\" onclick=\"convertToInteractive('df-26639800-1dc5-48fb-9c8b-ed1d8cbb2ce1')\"\n",
              "              title=\"Convert this dataframe to an interactive table.\"\n",
              "              style=\"display:none;\">\n",
              "        \n",
              "  <svg xmlns=\"http://www.w3.org/2000/svg\" height=\"24px\"viewBox=\"0 0 24 24\"\n",
              "       width=\"24px\">\n",
              "    <path d=\"M0 0h24v24H0V0z\" fill=\"none\"/>\n",
              "    <path d=\"M18.56 5.44l.94 2.06.94-2.06 2.06-.94-2.06-.94-.94-2.06-.94 2.06-2.06.94zm-11 1L8.5 8.5l.94-2.06 2.06-.94-2.06-.94L8.5 2.5l-.94 2.06-2.06.94zm10 10l.94 2.06.94-2.06 2.06-.94-2.06-.94-.94-2.06-.94 2.06-2.06.94z\"/><path d=\"M17.41 7.96l-1.37-1.37c-.4-.4-.92-.59-1.43-.59-.52 0-1.04.2-1.43.59L10.3 9.45l-7.72 7.72c-.78.78-.78 2.05 0 2.83L4 21.41c.39.39.9.59 1.41.59.51 0 1.02-.2 1.41-.59l7.78-7.78 2.81-2.81c.8-.78.8-2.07 0-2.86zM5.41 20L4 18.59l7.72-7.72 1.47 1.35L5.41 20z\"/>\n",
              "  </svg>\n",
              "      </button>\n",
              "      \n",
              "  <style>\n",
              "    .colab-df-container {\n",
              "      display:flex;\n",
              "      flex-wrap:wrap;\n",
              "      gap: 12px;\n",
              "    }\n",
              "\n",
              "    .colab-df-convert {\n",
              "      background-color: #E8F0FE;\n",
              "      border: none;\n",
              "      border-radius: 50%;\n",
              "      cursor: pointer;\n",
              "      display: none;\n",
              "      fill: #1967D2;\n",
              "      height: 32px;\n",
              "      padding: 0 0 0 0;\n",
              "      width: 32px;\n",
              "    }\n",
              "\n",
              "    .colab-df-convert:hover {\n",
              "      background-color: #E2EBFA;\n",
              "      box-shadow: 0px 1px 2px rgba(60, 64, 67, 0.3), 0px 1px 3px 1px rgba(60, 64, 67, 0.15);\n",
              "      fill: #174EA6;\n",
              "    }\n",
              "\n",
              "    [theme=dark] .colab-df-convert {\n",
              "      background-color: #3B4455;\n",
              "      fill: #D2E3FC;\n",
              "    }\n",
              "\n",
              "    [theme=dark] .colab-df-convert:hover {\n",
              "      background-color: #434B5C;\n",
              "      box-shadow: 0px 1px 3px 1px rgba(0, 0, 0, 0.15);\n",
              "      filter: drop-shadow(0px 1px 2px rgba(0, 0, 0, 0.3));\n",
              "      fill: #FFFFFF;\n",
              "    }\n",
              "  </style>\n",
              "\n",
              "      <script>\n",
              "        const buttonEl =\n",
              "          document.querySelector('#df-26639800-1dc5-48fb-9c8b-ed1d8cbb2ce1 button.colab-df-convert');\n",
              "        buttonEl.style.display =\n",
              "          google.colab.kernel.accessAllowed ? 'block' : 'none';\n",
              "\n",
              "        async function convertToInteractive(key) {\n",
              "          const element = document.querySelector('#df-26639800-1dc5-48fb-9c8b-ed1d8cbb2ce1');\n",
              "          const dataTable =\n",
              "            await google.colab.kernel.invokeFunction('convertToInteractive',\n",
              "                                                     [key], {});\n",
              "          if (!dataTable) return;\n",
              "\n",
              "          const docLinkHtml = 'Like what you see? Visit the ' +\n",
              "            '<a target=\"_blank\" href=https://colab.research.google.com/notebooks/data_table.ipynb>data table notebook</a>'\n",
              "            + ' to learn more about interactive tables.';\n",
              "          element.innerHTML = '';\n",
              "          dataTable['output_type'] = 'display_data';\n",
              "          await google.colab.output.renderOutput(dataTable, element);\n",
              "          const docLink = document.createElement('div');\n",
              "          docLink.innerHTML = docLinkHtml;\n",
              "          element.appendChild(docLink);\n",
              "        }\n",
              "      </script>\n",
              "    </div>\n",
              "  </div>\n",
              "  "
            ]
          },
          "metadata": {},
          "execution_count": 12
        }
      ],
      "source": [
        "import pandas as pd\n",
        "import numpy as np\n",
        "import keras\n",
        "\n",
        "from keras.models import Sequential\n",
        "from keras.layers import Dense\n",
        "# charger le jeu de données concrete_data\n",
        "concrete_data = pd.read_csv('https://cocl.us/concrete_data')\n",
        "\n",
        "# vérifier que les données ont été chargées correctement\n",
        "concrete_data.head()"
      ]
    },
    {
      "cell_type": "markdown",
      "source": [
        "# 2. Connaitre le nombre d'elements de notre dataset"
      ],
      "metadata": {
        "id": "u5poj69cegbA"
      }
    },
    {
      "cell_type": "code",
      "source": [
        "concrete_data.shape"
      ],
      "metadata": {
        "id": "AV3Mu0LjePHY",
        "outputId": "1c8f3501-f53c-49a7-aab7-9f4ce4daa9c6",
        "colab": {
          "base_uri": "https://localhost:8080/"
        }
      },
      "execution_count": 13,
      "outputs": [
        {
          "output_type": "execute_result",
          "data": {
            "text/plain": [
              "(1030, 9)"
            ]
          },
          "metadata": {},
          "execution_count": 13
        }
      ]
    },
    {
      "cell_type": "markdown",
      "source": [
        "# 3. Diviser l'ensemble de données en prédicteurs (entrées) et en cibles (sorties)"
      ],
      "metadata": {
        "id": "Q4kcA5uee2Kk"
      }
    },
    {
      "cell_type": "code",
      "execution_count": 3,
      "metadata": {
        "id": "p9UCDK5KLN6K"
      },
      "outputs": [],
      "source": [
        "\n",
        "predictors = concrete_data.drop(columns=['Strength'])\n",
        "target = concrete_data['Strength']\n",
        "n_cols = predictors.shape[1]"
      ]
    },
    {
      "cell_type": "markdown",
      "metadata": {
        "id": "KBBKst4xLN6K"
      },
      "source": [
        "# A. **Construction d'un modele de reference**\n",
        "1. Utilisez la bibliothèque Keras pour construire un réseau neuronal avec les caractéristiques suivantes :\n",
        "\n",
        "- Une couche cachée de 10 nœuds et une fonction d'activation ReLU.\n",
        "- Utilisez l'optimiseur adam et l'erreur quadratique moyenne comme fonction de perte.\n"
      ]
    },
    {
      "cell_type": "code",
      "execution_count": 4,
      "metadata": {
        "id": "PqWQwvDLLN6L"
      },
      "outputs": [],
      "source": [
        "# Créer le réseau neuronal dans une fonction afin de pouvoir l'utiliser plusieurs fois dans les sections suivantes\n",
        "def regression_model():\n",
        "    model = Sequential()\n",
        "    model.add(Dense(10, activation='relu', input_shape=(n_cols,)))\n",
        "    model.add(Dense(1))\n",
        "    model.compile(optimizer='adam', loss='mean_squared_error')\n",
        "    return model\n",
        "\n",
        "model = regression_model()"
      ]
    },
    {
      "cell_type": "markdown",
      "metadata": {
        "id": "kzx8jLhDLN6M"
      },
      "source": [
        "2. Divisez aléatoirement les données en deux ensembles, l'un pour la formation et l'autre pour le test, en réservant 30 % des données au test. Vous pouvez utiliser la fonction d'aide train_test_split de Scikit-learn."
      ]
    },
    {
      "cell_type": "code",
      "execution_count": 14,
      "metadata": {
        "id": "lkHRnk59LN6M",
        "outputId": "a37c4a4d-258b-4c98-a4c5-a4a1c79d7680",
        "colab": {
          "base_uri": "https://localhost:8080/"
        }
      },
      "outputs": [
        {
          "output_type": "execute_result",
          "data": {
            "text/plain": [
              "(721, 8)"
            ]
          },
          "metadata": {},
          "execution_count": 14
        }
      ],
      "source": [
        "from sklearn.model_selection import train_test_split\n",
        "\n",
        "predictors_train, predictors_test, target_train, target_test = train_test_split(predictors, target, \n",
        "                                                                                test_size=0.3, random_state=71)\n",
        "# Regardons la forme de l'ensemble des prédicteurs\n",
        "predictors_train.shape"
      ]
    },
    {
      "cell_type": "markdown",
      "metadata": {
        "id": "aThtmyWQLN6N"
      },
      "source": [
        "# 3. Entraînez le modèle sur les données d'entraînement en utilisant 50 époches."
      ]
    },
    {
      "cell_type": "code",
      "execution_count": 17,
      "metadata": {
        "id": "2aKYwF_ELN6O",
        "outputId": "149b28d7-7ba9-4620-cc77-8bfa0b22154a",
        "colab": {
          "base_uri": "https://localhost:8080/"
        }
      },
      "outputs": [
        {
          "output_type": "stream",
          "name": "stdout",
          "text": [
            "Epoch 1/50\n",
            "23/23 [==============================] - 0s 3ms/step - loss: 81.6680\n",
            "Epoch 2/50\n",
            "23/23 [==============================] - 0s 3ms/step - loss: 79.3291\n",
            "Epoch 3/50\n",
            "23/23 [==============================] - 0s 3ms/step - loss: 78.8332\n",
            "Epoch 4/50\n",
            "23/23 [==============================] - 0s 3ms/step - loss: 79.8335\n",
            "Epoch 5/50\n",
            "23/23 [==============================] - 0s 3ms/step - loss: 78.4945\n",
            "Epoch 6/50\n",
            "23/23 [==============================] - 0s 3ms/step - loss: 78.3322\n",
            "Epoch 7/50\n",
            "23/23 [==============================] - 0s 3ms/step - loss: 77.8705\n",
            "Epoch 8/50\n",
            "23/23 [==============================] - 0s 3ms/step - loss: 82.4160\n",
            "Epoch 9/50\n",
            "23/23 [==============================] - 0s 4ms/step - loss: 79.3404\n",
            "Epoch 10/50\n",
            "23/23 [==============================] - 0s 3ms/step - loss: 77.4650\n",
            "Epoch 11/50\n",
            "23/23 [==============================] - 0s 3ms/step - loss: 79.5558\n",
            "Epoch 12/50\n",
            "23/23 [==============================] - 0s 3ms/step - loss: 77.6405\n",
            "Epoch 13/50\n",
            "23/23 [==============================] - 0s 3ms/step - loss: 79.4686\n",
            "Epoch 14/50\n",
            "23/23 [==============================] - 0s 3ms/step - loss: 78.7169\n",
            "Epoch 15/50\n",
            "23/23 [==============================] - 0s 3ms/step - loss: 76.6583\n",
            "Epoch 16/50\n",
            "23/23 [==============================] - 0s 3ms/step - loss: 76.3730\n",
            "Epoch 17/50\n",
            "23/23 [==============================] - 0s 3ms/step - loss: 76.2892\n",
            "Epoch 18/50\n",
            "23/23 [==============================] - 0s 3ms/step - loss: 76.8260\n",
            "Epoch 19/50\n",
            "23/23 [==============================] - 0s 2ms/step - loss: 76.3335\n",
            "Epoch 20/50\n",
            "23/23 [==============================] - 0s 3ms/step - loss: 76.1550\n",
            "Epoch 21/50\n",
            "23/23 [==============================] - 0s 3ms/step - loss: 78.8196\n",
            "Epoch 22/50\n",
            "23/23 [==============================] - 0s 3ms/step - loss: 77.2739\n",
            "Epoch 23/50\n",
            "23/23 [==============================] - 0s 3ms/step - loss: 75.5638\n",
            "Epoch 24/50\n",
            "23/23 [==============================] - 0s 3ms/step - loss: 77.4073\n",
            "Epoch 25/50\n",
            "23/23 [==============================] - 0s 3ms/step - loss: 76.4400\n",
            "Epoch 26/50\n",
            "23/23 [==============================] - 0s 3ms/step - loss: 75.2334\n",
            "Epoch 27/50\n",
            "23/23 [==============================] - 0s 3ms/step - loss: 77.3164\n",
            "Epoch 28/50\n",
            "23/23 [==============================] - 0s 3ms/step - loss: 76.9528\n",
            "Epoch 29/50\n",
            "23/23 [==============================] - 0s 3ms/step - loss: 78.2668\n",
            "Epoch 30/50\n",
            "23/23 [==============================] - 0s 3ms/step - loss: 75.8838\n",
            "Epoch 31/50\n",
            "23/23 [==============================] - 0s 3ms/step - loss: 78.8575\n",
            "Epoch 32/50\n",
            "23/23 [==============================] - 0s 2ms/step - loss: 78.4143\n",
            "Epoch 33/50\n",
            "23/23 [==============================] - 0s 2ms/step - loss: 78.8743\n",
            "Epoch 34/50\n",
            "23/23 [==============================] - 0s 2ms/step - loss: 75.5819\n",
            "Epoch 35/50\n",
            "23/23 [==============================] - 0s 2ms/step - loss: 78.7684\n",
            "Epoch 36/50\n",
            "23/23 [==============================] - 0s 2ms/step - loss: 78.0445\n",
            "Epoch 37/50\n",
            "23/23 [==============================] - 0s 2ms/step - loss: 74.7018\n",
            "Epoch 38/50\n",
            "23/23 [==============================] - 0s 2ms/step - loss: 74.3478\n",
            "Epoch 39/50\n",
            "23/23 [==============================] - 0s 2ms/step - loss: 74.8312\n",
            "Epoch 40/50\n",
            "23/23 [==============================] - 0s 2ms/step - loss: 76.4045\n",
            "Epoch 41/50\n",
            "23/23 [==============================] - 0s 2ms/step - loss: 73.9565\n",
            "Epoch 42/50\n",
            "23/23 [==============================] - 0s 2ms/step - loss: 73.2568\n",
            "Epoch 43/50\n",
            "23/23 [==============================] - 0s 2ms/step - loss: 73.9115\n",
            "Epoch 44/50\n",
            "23/23 [==============================] - 0s 2ms/step - loss: 76.8818\n",
            "Epoch 45/50\n",
            "23/23 [==============================] - 0s 2ms/step - loss: 74.2664\n",
            "Epoch 46/50\n",
            "23/23 [==============================] - 0s 2ms/step - loss: 73.3156\n",
            "Epoch 47/50\n",
            "23/23 [==============================] - 0s 2ms/step - loss: 79.7058\n",
            "Epoch 48/50\n",
            "23/23 [==============================] - 0s 2ms/step - loss: 75.9041\n",
            "Epoch 49/50\n",
            "23/23 [==============================] - 0s 2ms/step - loss: 75.3976\n",
            "Epoch 50/50\n",
            "23/23 [==============================] - 0s 2ms/step - loss: 75.1143\n"
          ]
        },
        {
          "output_type": "execute_result",
          "data": {
            "text/plain": [
              "<keras.callbacks.History at 0x7fa06155b0d0>"
            ]
          },
          "metadata": {},
          "execution_count": 17
        }
      ],
      "source": [
        "model.fit(predictors_train, target_train, epochs=50)"
      ]
    },
    {
      "cell_type": "markdown",
      "metadata": {
        "id": "2g67HmhvLN6O"
      },
      "source": [
        "4.  Évaluez le modèle sur les données d'essai et calculez l'erreur quadratique moyenne entre la résistance prédite du béton et la résistance réelle du béton. Vous pouvez utiliser la fonction mean_squared_error de Scikit-learn."
      ]
    },
    {
      "cell_type": "code",
      "execution_count": 18,
      "metadata": {
        "id": "ZyC67kELLN6P",
        "outputId": "eae3b111-ca94-4b35-a043-1ad6e0852b05",
        "colab": {
          "base_uri": "https://localhost:8080/"
        }
      },
      "outputs": [
        {
          "output_type": "stream",
          "name": "stdout",
          "text": [
            "10/10 [==============================] - 0s 2ms/step\n",
            "Erreur quadratique moyenne sur les données de test est 66.814\n"
          ]
        }
      ],
      "source": [
        "predictions_test = model.predict(predictors_test)\n",
        "from sklearn.metrics import mean_squared_error\n",
        "print('Erreur quadratique moyenne sur les données de test est %.3f' % (mean_squared_error(target_test, predictions_test)))"
      ]
    },
    {
      "cell_type": "markdown",
      "metadata": {
        "id": "TmyuQkUvLN6Q"
      },
      "source": [
        "5. Répétez les étapes 2 à 4, 50 fois, c'est-à-dire créez une liste de 50 erreurs quadratiques moyennes.\n",
        "6. Indiquez la moyenne et l'écart-type des erreurs quadratiques moyennes."
      ]
    },
    {
      "cell_type": "code",
      "execution_count": 19,
      "metadata": {
        "id": "bbqouVQMLN6Q"
      },
      "outputs": [],
      "source": [
        "# Créer une fonction qui évalue le modèle afin que nous puissions l'utiliser pour évaluer les modèles créés dans les parties A, B, C et D\n",
        "# Le paramètre 'create_model_func' est la fonction utilisée pour construire le modèle. Pour la partie A, il s'agit de la\n",
        "# fonction regression_model définie ci-dessus\n",
        "def evaluate_model(create_model_func, predictors, targets, epochs=50):\n",
        "    mean_squared_errors = []\n",
        "    for i in range(50):\n",
        "      # créer le modèle. nous  n'étions pas sûr à 100% que cela devait se faire à l'intérieur de la boucle, mais nous  pensons que c'était.\n",
        "      # l'intention de la question. Sinon, la moyenne et l'écart-type de l'erreur quadratique moyenne ne sont pas très significatifs\n",
        "        model = create_model_func()\n",
        "     # 1. diviser les données en un ensemble de formation et un ensemble de test\n",
        "        predictors_train, predictors_test, target_train, target_test = train_test_split(predictors, target, \n",
        "                                                                                    test_size=0.3, random_state=71)\n",
        "       # 2. 50 époches d'entraînement (suppression de l'enregistrement cette fois)\n",
        "        model.fit(predictors_train, target_train, epochs=epochs, verbose=0)\n",
        "       # 3. mesurer le mse et l'ajouter à la liste\n",
        "        predictions_test = model.predict(predictors_test)\n",
        "        mse = mean_squared_error(target_test, predictions_test)\n",
        "        mean_squared_errors.append(mse)\n",
        "        print('.', end='') # affiche un point pour que nous puissions voir que la fonction est toujours en cours d'exécution\n",
        "    print(' Done!')\n",
        "   # renvoie la moyenne et l'écart-type de la liste mse\n",
        "    return np.mean(mean_squared_errors), np.std(mean_squared_errors)"
      ]
    },
    {
      "cell_type": "code",
      "execution_count": 20,
      "metadata": {
        "id": "kK_ZMKjlLN6S",
        "outputId": "be4d4f5a-1a7c-4e01-f59b-91cbf115e8b6",
        "colab": {
          "base_uri": "https://localhost:8080/"
        }
      },
      "outputs": [
        {
          "output_type": "stream",
          "name": "stdout",
          "text": [
            "10/10 [==============================] - 0s 2ms/step\n",
            "10/10 [==============================] - 0s 2ms/step\n",
            "10/10 [==============================] - 0s 2ms/step\n",
            "10/10 [==============================] - 0s 2ms/step\n",
            "10/10 [==============================] - 0s 2ms/step\n",
            "10/10 [==============================] - 0s 2ms/step\n",
            "10/10 [==============================] - 0s 2ms/step\n",
            "10/10 [==============================] - 0s 3ms/step\n",
            "10/10 [==============================] - 0s 2ms/step\n",
            "10/10 [==============================] - 0s 2ms/step\n",
            "10/10 [==============================] - 0s 2ms/step\n",
            "10/10 [==============================] - 0s 3ms/step\n",
            "10/10 [==============================] - 0s 2ms/step\n",
            "10/10 [==============================] - 0s 2ms/step\n",
            "10/10 [==============================] - 0s 2ms/step\n",
            "10/10 [==============================] - 0s 3ms/step\n",
            "10/10 [==============================] - 0s 2ms/step\n",
            "10/10 [==============================] - 0s 2ms/step\n",
            "10/10 [==============================] - 0s 2ms/step\n",
            "10/10 [==============================] - 0s 2ms/step\n",
            "10/10 [==============================] - 0s 2ms/step\n",
            "10/10 [==============================] - 0s 2ms/step\n",
            "10/10 [==============================] - 0s 3ms/step\n",
            "10/10 [==============================] - 0s 2ms/step\n",
            "10/10 [==============================] - 0s 2ms/step\n",
            "10/10 [==============================] - 0s 2ms/step\n",
            "10/10 [==============================] - 0s 4ms/step\n",
            "10/10 [==============================] - 0s 2ms/step\n",
            "10/10 [==============================] - 0s 2ms/step\n",
            "10/10 [==============================] - 0s 2ms/step\n",
            "10/10 [==============================] - 0s 3ms/step\n",
            "10/10 [==============================] - 0s 2ms/step\n",
            "10/10 [==============================] - 0s 2ms/step\n",
            "10/10 [==============================] - 0s 3ms/step\n",
            "10/10 [==============================] - 0s 2ms/step\n",
            "10/10 [==============================] - 0s 2ms/step\n",
            "10/10 [==============================] - 0s 2ms/step\n",
            "10/10 [==============================] - 0s 2ms/step\n",
            "10/10 [==============================] - 0s 2ms/step\n",
            "10/10 [==============================] - 0s 2ms/step\n",
            "10/10 [==============================] - 0s 4ms/step\n",
            "10/10 [==============================] - 0s 2ms/step\n",
            "10/10 [==============================] - 0s 3ms/step\n",
            "10/10 [==============================] - 0s 2ms/step\n",
            "10/10 [==============================] - 0s 2ms/step\n",
            "10/10 [==============================] - 0s 2ms/step\n",
            "10/10 [==============================] - 0s 2ms/step\n",
            "10/10 [==============================] - 0s 2ms/step\n",
            "10/10 [==============================] - 0s 2ms/step\n",
            "10/10 [==============================] - 0s 3ms/step\n",
            ". Done!\n",
            "Erreurs quadratiques moyennes pour 50 modèles de régression : moyenne = 356.881, std dev = 464.161\n"
          ]
        }
      ],
      "source": [
        "# Évaluer le modèle et imprimer la moyenne et l'écart-type des erreurs quadratiques moyennes. Notez que nous passons ici \n",
        "# la fonction regression_model ici. Elle est utilisée dans la fonction evaluate_model pour créer un \n",
        "# nouveau réseau neuronal dans chaque boucle\n",
        "mean_mse, std_mse = evaluate_model(regression_model, predictors, target)\n",
        "# Indiquer la moyenne et l'écart-type des erreurs quadratiques moyennes\n",
        "print(\"Erreurs quadratiques moyennes pour 50 modèles de régression : moyenne = %.3f, std dev = %.3f\" %(mean_mse, std_mse))"
      ]
    },
    {
      "cell_type": "markdown",
      "metadata": {
        "id": "tLZ0vGkdLN6T"
      },
      "source": [
        "# **B. Normalisation des donnees**\n",
        "\n",
        "Répétez la partie A mais utilisez une version normalisée des données. Rappelez qu'une façon de normaliser les données consiste à soustraire la moyenne des prédicteurs individuels et à la diviser par l'écart-type."
      ]
    },
    {
      "cell_type": "code",
      "execution_count": 21,
      "metadata": {
        "id": "sN7Y4GngLN6T",
        "outputId": "7e2a5e21-c475-4d34-f3e5-6be8dde303bc",
        "colab": {
          "base_uri": "https://localhost:8080/",
          "height": 206
        }
      },
      "outputs": [
        {
          "output_type": "execute_result",
          "data": {
            "text/plain": [
              "     Cement  Blast Furnace Slag   Fly Ash     Water  Superplasticizer  \\\n",
              "0  2.476712           -0.856472 -0.846733 -0.916319         -0.620147   \n",
              "1  2.476712           -0.856472 -0.846733 -0.916319         -0.620147   \n",
              "2  0.491187            0.795140 -0.846733  2.174405         -1.038638   \n",
              "3  0.491187            0.795140 -0.846733  2.174405         -1.038638   \n",
              "4 -0.790075            0.678079 -0.846733  0.488555         -1.038638   \n",
              "\n",
              "   Coarse Aggregate  Fine Aggregate       Age  \n",
              "0          0.862735       -1.217079 -0.279597  \n",
              "1          1.055651       -1.217079 -0.279597  \n",
              "2         -0.526262       -2.239829  3.551340  \n",
              "3         -0.526262       -2.239829  5.055221  \n",
              "4          0.070492        0.647569  4.976069  "
            ],
            "text/html": [
              "\n",
              "  <div id=\"df-66fb7247-c323-4af5-978c-5bc307987712\">\n",
              "    <div class=\"colab-df-container\">\n",
              "      <div>\n",
              "<style scoped>\n",
              "    .dataframe tbody tr th:only-of-type {\n",
              "        vertical-align: middle;\n",
              "    }\n",
              "\n",
              "    .dataframe tbody tr th {\n",
              "        vertical-align: top;\n",
              "    }\n",
              "\n",
              "    .dataframe thead th {\n",
              "        text-align: right;\n",
              "    }\n",
              "</style>\n",
              "<table border=\"1\" class=\"dataframe\">\n",
              "  <thead>\n",
              "    <tr style=\"text-align: right;\">\n",
              "      <th></th>\n",
              "      <th>Cement</th>\n",
              "      <th>Blast Furnace Slag</th>\n",
              "      <th>Fly Ash</th>\n",
              "      <th>Water</th>\n",
              "      <th>Superplasticizer</th>\n",
              "      <th>Coarse Aggregate</th>\n",
              "      <th>Fine Aggregate</th>\n",
              "      <th>Age</th>\n",
              "    </tr>\n",
              "  </thead>\n",
              "  <tbody>\n",
              "    <tr>\n",
              "      <th>0</th>\n",
              "      <td>2.476712</td>\n",
              "      <td>-0.856472</td>\n",
              "      <td>-0.846733</td>\n",
              "      <td>-0.916319</td>\n",
              "      <td>-0.620147</td>\n",
              "      <td>0.862735</td>\n",
              "      <td>-1.217079</td>\n",
              "      <td>-0.279597</td>\n",
              "    </tr>\n",
              "    <tr>\n",
              "      <th>1</th>\n",
              "      <td>2.476712</td>\n",
              "      <td>-0.856472</td>\n",
              "      <td>-0.846733</td>\n",
              "      <td>-0.916319</td>\n",
              "      <td>-0.620147</td>\n",
              "      <td>1.055651</td>\n",
              "      <td>-1.217079</td>\n",
              "      <td>-0.279597</td>\n",
              "    </tr>\n",
              "    <tr>\n",
              "      <th>2</th>\n",
              "      <td>0.491187</td>\n",
              "      <td>0.795140</td>\n",
              "      <td>-0.846733</td>\n",
              "      <td>2.174405</td>\n",
              "      <td>-1.038638</td>\n",
              "      <td>-0.526262</td>\n",
              "      <td>-2.239829</td>\n",
              "      <td>3.551340</td>\n",
              "    </tr>\n",
              "    <tr>\n",
              "      <th>3</th>\n",
              "      <td>0.491187</td>\n",
              "      <td>0.795140</td>\n",
              "      <td>-0.846733</td>\n",
              "      <td>2.174405</td>\n",
              "      <td>-1.038638</td>\n",
              "      <td>-0.526262</td>\n",
              "      <td>-2.239829</td>\n",
              "      <td>5.055221</td>\n",
              "    </tr>\n",
              "    <tr>\n",
              "      <th>4</th>\n",
              "      <td>-0.790075</td>\n",
              "      <td>0.678079</td>\n",
              "      <td>-0.846733</td>\n",
              "      <td>0.488555</td>\n",
              "      <td>-1.038638</td>\n",
              "      <td>0.070492</td>\n",
              "      <td>0.647569</td>\n",
              "      <td>4.976069</td>\n",
              "    </tr>\n",
              "  </tbody>\n",
              "</table>\n",
              "</div>\n",
              "      <button class=\"colab-df-convert\" onclick=\"convertToInteractive('df-66fb7247-c323-4af5-978c-5bc307987712')\"\n",
              "              title=\"Convert this dataframe to an interactive table.\"\n",
              "              style=\"display:none;\">\n",
              "        \n",
              "  <svg xmlns=\"http://www.w3.org/2000/svg\" height=\"24px\"viewBox=\"0 0 24 24\"\n",
              "       width=\"24px\">\n",
              "    <path d=\"M0 0h24v24H0V0z\" fill=\"none\"/>\n",
              "    <path d=\"M18.56 5.44l.94 2.06.94-2.06 2.06-.94-2.06-.94-.94-2.06-.94 2.06-2.06.94zm-11 1L8.5 8.5l.94-2.06 2.06-.94-2.06-.94L8.5 2.5l-.94 2.06-2.06.94zm10 10l.94 2.06.94-2.06 2.06-.94-2.06-.94-.94-2.06-.94 2.06-2.06.94z\"/><path d=\"M17.41 7.96l-1.37-1.37c-.4-.4-.92-.59-1.43-.59-.52 0-1.04.2-1.43.59L10.3 9.45l-7.72 7.72c-.78.78-.78 2.05 0 2.83L4 21.41c.39.39.9.59 1.41.59.51 0 1.02-.2 1.41-.59l7.78-7.78 2.81-2.81c.8-.78.8-2.07 0-2.86zM5.41 20L4 18.59l7.72-7.72 1.47 1.35L5.41 20z\"/>\n",
              "  </svg>\n",
              "      </button>\n",
              "      \n",
              "  <style>\n",
              "    .colab-df-container {\n",
              "      display:flex;\n",
              "      flex-wrap:wrap;\n",
              "      gap: 12px;\n",
              "    }\n",
              "\n",
              "    .colab-df-convert {\n",
              "      background-color: #E8F0FE;\n",
              "      border: none;\n",
              "      border-radius: 50%;\n",
              "      cursor: pointer;\n",
              "      display: none;\n",
              "      fill: #1967D2;\n",
              "      height: 32px;\n",
              "      padding: 0 0 0 0;\n",
              "      width: 32px;\n",
              "    }\n",
              "\n",
              "    .colab-df-convert:hover {\n",
              "      background-color: #E2EBFA;\n",
              "      box-shadow: 0px 1px 2px rgba(60, 64, 67, 0.3), 0px 1px 3px 1px rgba(60, 64, 67, 0.15);\n",
              "      fill: #174EA6;\n",
              "    }\n",
              "\n",
              "    [theme=dark] .colab-df-convert {\n",
              "      background-color: #3B4455;\n",
              "      fill: #D2E3FC;\n",
              "    }\n",
              "\n",
              "    [theme=dark] .colab-df-convert:hover {\n",
              "      background-color: #434B5C;\n",
              "      box-shadow: 0px 1px 3px 1px rgba(0, 0, 0, 0.15);\n",
              "      filter: drop-shadow(0px 1px 2px rgba(0, 0, 0, 0.3));\n",
              "      fill: #FFFFFF;\n",
              "    }\n",
              "  </style>\n",
              "\n",
              "      <script>\n",
              "        const buttonEl =\n",
              "          document.querySelector('#df-66fb7247-c323-4af5-978c-5bc307987712 button.colab-df-convert');\n",
              "        buttonEl.style.display =\n",
              "          google.colab.kernel.accessAllowed ? 'block' : 'none';\n",
              "\n",
              "        async function convertToInteractive(key) {\n",
              "          const element = document.querySelector('#df-66fb7247-c323-4af5-978c-5bc307987712');\n",
              "          const dataTable =\n",
              "            await google.colab.kernel.invokeFunction('convertToInteractive',\n",
              "                                                     [key], {});\n",
              "          if (!dataTable) return;\n",
              "\n",
              "          const docLinkHtml = 'Like what you see? Visit the ' +\n",
              "            '<a target=\"_blank\" href=https://colab.research.google.com/notebooks/data_table.ipynb>data table notebook</a>'\n",
              "            + ' to learn more about interactive tables.';\n",
              "          element.innerHTML = '';\n",
              "          dataTable['output_type'] = 'display_data';\n",
              "          await google.colab.output.renderOutput(dataTable, element);\n",
              "          const docLink = document.createElement('div');\n",
              "          docLink.innerHTML = docLinkHtml;\n",
              "          element.appendChild(docLink);\n",
              "        }\n",
              "      </script>\n",
              "    </div>\n",
              "  </div>\n",
              "  "
            ]
          },
          "metadata": {},
          "execution_count": 21
        }
      ],
      "source": [
        "# Normaliser les données\n",
        "predictors_norm = (predictors - predictors.mean()) / predictors.std()\n",
        "predictors_norm.head()"
      ]
    },
    {
      "cell_type": "code",
      "execution_count": 22,
      "metadata": {
        "id": "jry0vYZRLN6U",
        "outputId": "5c1ecea4-fee0-45b0-e294-6992597982bc",
        "colab": {
          "base_uri": "https://localhost:8080/"
        }
      },
      "outputs": [
        {
          "output_type": "stream",
          "name": "stdout",
          "text": [
            "10/10 [==============================] - 0s 2ms/step\n",
            "10/10 [==============================] - 0s 2ms/step\n",
            "10/10 [==============================] - 0s 2ms/step\n",
            "10/10 [==============================] - 0s 2ms/step\n",
            "10/10 [==============================] - 0s 2ms/step\n",
            "10/10 [==============================] - 0s 2ms/step\n",
            "10/10 [==============================] - 0s 3ms/step\n",
            "10/10 [==============================] - 0s 2ms/step\n",
            "10/10 [==============================] - 0s 2ms/step\n",
            "10/10 [==============================] - 0s 2ms/step\n",
            "10/10 [==============================] - 0s 2ms/step\n",
            "10/10 [==============================] - 0s 2ms/step\n",
            "10/10 [==============================] - 0s 2ms/step\n",
            "10/10 [==============================] - 0s 3ms/step\n",
            "10/10 [==============================] - 0s 2ms/step\n",
            "10/10 [==============================] - 0s 2ms/step\n",
            "10/10 [==============================] - 0s 2ms/step\n",
            "10/10 [==============================] - 0s 2ms/step\n",
            "10/10 [==============================] - 0s 2ms/step\n",
            "10/10 [==============================] - 0s 2ms/step\n",
            "10/10 [==============================] - 0s 2ms/step\n",
            "10/10 [==============================] - 0s 2ms/step\n",
            "10/10 [==============================] - 0s 2ms/step\n",
            "10/10 [==============================] - 0s 2ms/step\n",
            "10/10 [==============================] - 0s 2ms/step\n",
            "10/10 [==============================] - 0s 2ms/step\n",
            "10/10 [==============================] - 0s 2ms/step\n",
            "10/10 [==============================] - 0s 2ms/step\n",
            "10/10 [==============================] - 0s 2ms/step\n",
            "10/10 [==============================] - 0s 2ms/step\n",
            "10/10 [==============================] - 0s 2ms/step\n",
            "10/10 [==============================] - 0s 2ms/step\n",
            "10/10 [==============================] - 0s 2ms/step\n",
            "10/10 [==============================] - 0s 2ms/step\n",
            "10/10 [==============================] - 0s 2ms/step\n",
            "10/10 [==============================] - 0s 2ms/step\n",
            "10/10 [==============================] - 0s 2ms/step\n",
            "10/10 [==============================] - 0s 2ms/step\n",
            "10/10 [==============================] - 0s 3ms/step\n",
            "10/10 [==============================] - 0s 2ms/step\n",
            "10/10 [==============================] - 0s 2ms/step\n",
            "10/10 [==============================] - 0s 2ms/step\n",
            "10/10 [==============================] - 0s 2ms/step\n",
            "10/10 [==============================] - 0s 2ms/step\n",
            "10/10 [==============================] - 0s 2ms/step\n",
            "10/10 [==============================] - 0s 2ms/step\n",
            "10/10 [==============================] - 0s 3ms/step\n",
            "10/10 [==============================] - 0s 2ms/step\n",
            "10/10 [==============================] - 0s 2ms/step\n",
            "10/10 [==============================] - 0s 2ms/step\n",
            ". Done!\n",
            "Erreurs quadratiques moyennes pour 50 modèles de régression sur des données normalisées : moyenne = 329.662, std dev = 83.230\n"
          ]
        }
      ],
      "source": [
        "mean_mse, std_mse = evaluate_model(regression_model, predictors_norm, target)\n",
        "# Indiquer la moyenne et l'écart-type des erreurs quadratiques moyennes\n",
        "print(\"Erreurs quadratiques moyennes pour 50 modèles de régression sur des données normalisées : moyenne = %.3f, std dev = %.3f\" % \n",
        "      (mean_mse, std_mse))"
      ]
    },
    {
      "cell_type": "markdown",
      "metadata": {
        "id": "WGvHXCOnLN6U"
      },
      "source": [
        "**Comment la moyenne des erreurs quadratiques moyennes se compare-t-elle à celle de l'étape A ?**\n",
        "\n",
        "La moyenne des erreurs quadratiques moyennes a légèrement baissé (~10%), mais l'écart-type a baissé de manière significative. Cela signifie qu'en utilisant des données normalisées, la performance sur l'ensemble de test dépend beaucoup moins de la façon dont les données ont été divisées (aléatoirement) en un ensemble de données d'entraînement et un ensemble de données de test."
      ]
    },
    {
      "cell_type": "markdown",
      "metadata": {
        "id": "hWs9sfBaLN6V"
      },
      "source": [
        "# **C. Incrementation du nombre d'époches**\n",
        "\n",
        "Répétez la partie B **mais utilisez cette fois 100 époques pour l'entraînement.**"
      ]
    },
    {
      "cell_type": "code",
      "execution_count": 23,
      "metadata": {
        "id": "4J-7-autLN6V",
        "outputId": "daa2f429-2ffb-44e1-be07-8c9474f81394",
        "colab": {
          "base_uri": "https://localhost:8080/"
        }
      },
      "outputs": [
        {
          "output_type": "stream",
          "name": "stdout",
          "text": [
            "10/10 [==============================] - 0s 2ms/step\n",
            "10/10 [==============================] - 0s 2ms/step\n",
            "10/10 [==============================] - 0s 2ms/step\n",
            "10/10 [==============================] - 0s 2ms/step\n",
            "10/10 [==============================] - 0s 2ms/step\n",
            "10/10 [==============================] - 0s 2ms/step\n",
            "10/10 [==============================] - 0s 2ms/step\n",
            "10/10 [==============================] - 0s 2ms/step\n",
            "10/10 [==============================] - 0s 2ms/step\n",
            "10/10 [==============================] - 0s 2ms/step\n",
            "10/10 [==============================] - 0s 2ms/step\n",
            "10/10 [==============================] - 0s 2ms/step\n",
            "10/10 [==============================] - 0s 2ms/step\n",
            "10/10 [==============================] - 0s 2ms/step\n",
            "10/10 [==============================] - 0s 2ms/step\n",
            "10/10 [==============================] - 0s 2ms/step\n",
            "10/10 [==============================] - 0s 2ms/step\n",
            "10/10 [==============================] - 0s 2ms/step\n",
            "10/10 [==============================] - 0s 2ms/step\n",
            "10/10 [==============================] - 0s 2ms/step\n",
            "10/10 [==============================] - 0s 3ms/step\n",
            "10/10 [==============================] - 0s 2ms/step\n",
            "10/10 [==============================] - 0s 2ms/step\n",
            "10/10 [==============================] - 0s 2ms/step\n",
            "10/10 [==============================] - 0s 2ms/step\n",
            "10/10 [==============================] - 0s 2ms/step\n",
            "10/10 [==============================] - 0s 2ms/step\n",
            "10/10 [==============================] - 0s 3ms/step\n",
            "10/10 [==============================] - 0s 2ms/step\n",
            "10/10 [==============================] - 0s 2ms/step\n",
            "10/10 [==============================] - 0s 2ms/step\n",
            "10/10 [==============================] - 0s 2ms/step\n",
            "10/10 [==============================] - 0s 2ms/step\n",
            "10/10 [==============================] - 0s 2ms/step\n",
            "10/10 [==============================] - 0s 2ms/step\n",
            "10/10 [==============================] - 0s 2ms/step\n",
            "10/10 [==============================] - 0s 2ms/step\n",
            "10/10 [==============================] - 0s 2ms/step\n",
            "10/10 [==============================] - 0s 2ms/step\n",
            "10/10 [==============================] - 0s 2ms/step\n",
            "10/10 [==============================] - 0s 2ms/step\n",
            "10/10 [==============================] - 0s 2ms/step\n",
            "10/10 [==============================] - 0s 2ms/step\n",
            "10/10 [==============================] - 0s 2ms/step\n",
            "10/10 [==============================] - 0s 2ms/step\n",
            "10/10 [==============================] - 0s 2ms/step\n",
            "10/10 [==============================] - 0s 2ms/step\n",
            "10/10 [==============================] - 0s 2ms/step\n",
            "10/10 [==============================] - 0s 2ms/step\n",
            "10/10 [==============================] - 0s 3ms/step\n",
            ". Done!\n",
            "Erreurs quadratiques moyennes pour 50 modèles de régression sur des données normalisées, entraînés sur 100 époches : moyenne = 152.666, std dev = 11.479\n"
          ]
        }
      ],
      "source": [
        "mean_mse, std_mse = evaluate_model(regression_model, predictors_norm, target, epochs=100)\n",
        "# Indiquer la moyenne et l'écart-type des erreurs quadratiques moyennes\n",
        "print(\"Erreurs quadratiques moyennes pour 50 modèles de régression sur des données normalisées, entraînés sur 100 époches : moyenne = %.3f, std dev = %.3f\" % \n",
        "      (mean_mse, std_mse))"
      ]
    },
    {
      "cell_type": "markdown",
      "metadata": {
        "id": "a-loyzBFLN6W"
      },
      "source": [
        "**Comment la moyenne des erreurs quadratiques moyennes se compare-t-elle à celle de l'étape B ?**\n",
        "\n",
        "L'erreur quadratique moyenne sur l'ensemble de test a été réduite de plus de moitié. Il est clair qu'il y a beaucoup de progrès à faire avec un entraînement supplémentaire. L'écart-type a également beaucoup diminué."
      ]
    },
    {
      "cell_type": "markdown",
      "metadata": {
        "id": "Hkx31jEkLN6W"
      },
      "source": [
        "# **C. Augmentation du  nombre de couches cachées**\n",
        "\n",
        "Répétez la partie B mais utilisez un réseau neuronal avec les éléments suivants à la place :\n",
        "\n",
        "- Trois couches cachées de 10 nœuds chacune et une fonction d'activation ReLU."
      ]
    },
    {
      "cell_type": "code",
      "execution_count": null,
      "metadata": {
        "id": "uQLhkDc2LN6X",
        "outputId": "4efbce45-bafb-454d-a72a-d5a4ecb2c5fd"
      },
      "outputs": [
        {
          "name": "stdout",
          "output_type": "stream",
          "text": [
            ".................................................. Done!\n",
            "Mean squared errors for 50 regression models with 3 hidden layers: mean = 122.131, std dev = 13.626\n"
          ]
        }
      ],
      "source": [
        "def regression_model_D():\n",
        "    model = Sequential()\n",
        "    model.add(Dense(10, activation='relu', input_shape=(n_cols,)))\n",
        "    model.add(Dense(10, activation='relu'))\n",
        "    model.add(Dense(10, activation='relu'))\n",
        "    model.add(Dense(1))\n",
        "    model.compile(optimizer='adam', loss='mean_squared_error')\n",
        "    return model\n",
        "\n",
        "# Évaluer le modèle D\n",
        "mean_mse, std_mse = evaluate_model(regression_model_D, predictors_norm, target)\n",
        "# Indiquer la moyenne et l'écart-type des erreurs quadratiques moyennes\n",
        "print(\"Erreurs quadratiques moyennes pour 50 modèles de régression à 3 couches cachées : moyenne = %.3f, std dev = %.3f\" % \n",
        "      (mean_mse, std_mse))"
      ]
    },
    {
      "cell_type": "markdown",
      "metadata": {
        "id": "NtW2It2ILN6Z"
      },
      "source": [
        "**Comment la moyenne des erreurs quadratiques moyennes se compare-t-elle à celle de l'étape B ?**\n",
        "\n",
        "La moyenne des erreurs quadratiques moyennes est bien meilleure que dans la partie B (123 contre 321). Cela montre que le réseau à plusieurs couches cachées a appris à prédire la caractéristique \"force\" beaucoup mieux que le réseau à une seule couche."
      ]
    },
    {
      "cell_type": "markdown",
      "source": [
        "# **Conclusion**"
      ],
      "metadata": {
        "id": "0h-m2S9tfYkR"
      }
    },
    {
      "cell_type": "markdown",
      "source": [],
      "metadata": {
        "id": "YR-lcXCGf57r"
      }
    }
  ],
  "metadata": {
    "kernelspec": {
      "display_name": "Python 3",
      "language": "python",
      "name": "python3"
    },
    "language_info": {
      "codemirror_mode": {
        "name": "ipython",
        "version": 3
      },
      "file_extension": ".py",
      "mimetype": "text/x-python",
      "name": "python",
      "nbconvert_exporter": "python",
      "pygments_lexer": "ipython3",
      "version": "3.7.4"
    },
    "colab": {
      "provenance": [],
      "include_colab_link": true
    }
  },
  "nbformat": 4,
  "nbformat_minor": 0
}