{
  "cells": [
    {
      "cell_type": "markdown",
      "metadata": {
        "id": "view-in-github",
        "colab_type": "text"
      },
      "source": [
        "<a href=\"https://colab.research.google.com/github/gackouhamady/FinalProject_ML_NeuralNetworks_ENI-ABT_2023/blob/main/Deep_Learning_with_Keras_Assignment.ipynb\" target=\"_parent\"><img src=\"https://colab.research.google.com/assets/colab-badge.svg\" alt=\"Open In Colab\"/></a>"
      ]
    },
    {
      "cell_type": "markdown",
      "metadata": {
        "id": "06CshF9iLN5y"
      },
      "source": [
        "# Prepare the environment\n",
        "\n",
        "First, let's do some imports and download the data set"
      ]
    },
    {
      "cell_type": "code",
      "execution_count": 1,
      "metadata": {
        "colab": {
          "base_uri": "https://localhost:8080/",
          "height": 206
        },
        "id": "5bHNwg-lLN6G",
        "outputId": "6a62e7ee-1b87-4504-9dfd-77e9f444f82f"
      },
      "outputs": [
        {
          "output_type": "execute_result",
          "data": {
            "text/plain": [
              "   Cement  Blast Furnace Slag  Fly Ash  Water  Superplasticizer  \\\n",
              "0   540.0                 0.0      0.0  162.0               2.5   \n",
              "1   540.0                 0.0      0.0  162.0               2.5   \n",
              "2   332.5               142.5      0.0  228.0               0.0   \n",
              "3   332.5               142.5      0.0  228.0               0.0   \n",
              "4   198.6               132.4      0.0  192.0               0.0   \n",
              "\n",
              "   Coarse Aggregate  Fine Aggregate  Age  Strength  \n",
              "0            1040.0           676.0   28     79.99  \n",
              "1            1055.0           676.0   28     61.89  \n",
              "2             932.0           594.0  270     40.27  \n",
              "3             932.0           594.0  365     41.05  \n",
              "4             978.4           825.5  360     44.30  "
            ],
            "text/html": [
              "\n",
              "  <div id=\"df-4d6f84f6-920c-4181-bff6-578a5f65e154\">\n",
              "    <div class=\"colab-df-container\">\n",
              "      <div>\n",
              "<style scoped>\n",
              "    .dataframe tbody tr th:only-of-type {\n",
              "        vertical-align: middle;\n",
              "    }\n",
              "\n",
              "    .dataframe tbody tr th {\n",
              "        vertical-align: top;\n",
              "    }\n",
              "\n",
              "    .dataframe thead th {\n",
              "        text-align: right;\n",
              "    }\n",
              "</style>\n",
              "<table border=\"1\" class=\"dataframe\">\n",
              "  <thead>\n",
              "    <tr style=\"text-align: right;\">\n",
              "      <th></th>\n",
              "      <th>Cement</th>\n",
              "      <th>Blast Furnace Slag</th>\n",
              "      <th>Fly Ash</th>\n",
              "      <th>Water</th>\n",
              "      <th>Superplasticizer</th>\n",
              "      <th>Coarse Aggregate</th>\n",
              "      <th>Fine Aggregate</th>\n",
              "      <th>Age</th>\n",
              "      <th>Strength</th>\n",
              "    </tr>\n",
              "  </thead>\n",
              "  <tbody>\n",
              "    <tr>\n",
              "      <th>0</th>\n",
              "      <td>540.0</td>\n",
              "      <td>0.0</td>\n",
              "      <td>0.0</td>\n",
              "      <td>162.0</td>\n",
              "      <td>2.5</td>\n",
              "      <td>1040.0</td>\n",
              "      <td>676.0</td>\n",
              "      <td>28</td>\n",
              "      <td>79.99</td>\n",
              "    </tr>\n",
              "    <tr>\n",
              "      <th>1</th>\n",
              "      <td>540.0</td>\n",
              "      <td>0.0</td>\n",
              "      <td>0.0</td>\n",
              "      <td>162.0</td>\n",
              "      <td>2.5</td>\n",
              "      <td>1055.0</td>\n",
              "      <td>676.0</td>\n",
              "      <td>28</td>\n",
              "      <td>61.89</td>\n",
              "    </tr>\n",
              "    <tr>\n",
              "      <th>2</th>\n",
              "      <td>332.5</td>\n",
              "      <td>142.5</td>\n",
              "      <td>0.0</td>\n",
              "      <td>228.0</td>\n",
              "      <td>0.0</td>\n",
              "      <td>932.0</td>\n",
              "      <td>594.0</td>\n",
              "      <td>270</td>\n",
              "      <td>40.27</td>\n",
              "    </tr>\n",
              "    <tr>\n",
              "      <th>3</th>\n",
              "      <td>332.5</td>\n",
              "      <td>142.5</td>\n",
              "      <td>0.0</td>\n",
              "      <td>228.0</td>\n",
              "      <td>0.0</td>\n",
              "      <td>932.0</td>\n",
              "      <td>594.0</td>\n",
              "      <td>365</td>\n",
              "      <td>41.05</td>\n",
              "    </tr>\n",
              "    <tr>\n",
              "      <th>4</th>\n",
              "      <td>198.6</td>\n",
              "      <td>132.4</td>\n",
              "      <td>0.0</td>\n",
              "      <td>192.0</td>\n",
              "      <td>0.0</td>\n",
              "      <td>978.4</td>\n",
              "      <td>825.5</td>\n",
              "      <td>360</td>\n",
              "      <td>44.30</td>\n",
              "    </tr>\n",
              "  </tbody>\n",
              "</table>\n",
              "</div>\n",
              "      <button class=\"colab-df-convert\" onclick=\"convertToInteractive('df-4d6f84f6-920c-4181-bff6-578a5f65e154')\"\n",
              "              title=\"Convert this dataframe to an interactive table.\"\n",
              "              style=\"display:none;\">\n",
              "        \n",
              "  <svg xmlns=\"http://www.w3.org/2000/svg\" height=\"24px\"viewBox=\"0 0 24 24\"\n",
              "       width=\"24px\">\n",
              "    <path d=\"M0 0h24v24H0V0z\" fill=\"none\"/>\n",
              "    <path d=\"M18.56 5.44l.94 2.06.94-2.06 2.06-.94-2.06-.94-.94-2.06-.94 2.06-2.06.94zm-11 1L8.5 8.5l.94-2.06 2.06-.94-2.06-.94L8.5 2.5l-.94 2.06-2.06.94zm10 10l.94 2.06.94-2.06 2.06-.94-2.06-.94-.94-2.06-.94 2.06-2.06.94z\"/><path d=\"M17.41 7.96l-1.37-1.37c-.4-.4-.92-.59-1.43-.59-.52 0-1.04.2-1.43.59L10.3 9.45l-7.72 7.72c-.78.78-.78 2.05 0 2.83L4 21.41c.39.39.9.59 1.41.59.51 0 1.02-.2 1.41-.59l7.78-7.78 2.81-2.81c.8-.78.8-2.07 0-2.86zM5.41 20L4 18.59l7.72-7.72 1.47 1.35L5.41 20z\"/>\n",
              "  </svg>\n",
              "      </button>\n",
              "      \n",
              "  <style>\n",
              "    .colab-df-container {\n",
              "      display:flex;\n",
              "      flex-wrap:wrap;\n",
              "      gap: 12px;\n",
              "    }\n",
              "\n",
              "    .colab-df-convert {\n",
              "      background-color: #E8F0FE;\n",
              "      border: none;\n",
              "      border-radius: 50%;\n",
              "      cursor: pointer;\n",
              "      display: none;\n",
              "      fill: #1967D2;\n",
              "      height: 32px;\n",
              "      padding: 0 0 0 0;\n",
              "      width: 32px;\n",
              "    }\n",
              "\n",
              "    .colab-df-convert:hover {\n",
              "      background-color: #E2EBFA;\n",
              "      box-shadow: 0px 1px 2px rgba(60, 64, 67, 0.3), 0px 1px 3px 1px rgba(60, 64, 67, 0.15);\n",
              "      fill: #174EA6;\n",
              "    }\n",
              "\n",
              "    [theme=dark] .colab-df-convert {\n",
              "      background-color: #3B4455;\n",
              "      fill: #D2E3FC;\n",
              "    }\n",
              "\n",
              "    [theme=dark] .colab-df-convert:hover {\n",
              "      background-color: #434B5C;\n",
              "      box-shadow: 0px 1px 3px 1px rgba(0, 0, 0, 0.15);\n",
              "      filter: drop-shadow(0px 1px 2px rgba(0, 0, 0, 0.3));\n",
              "      fill: #FFFFFF;\n",
              "    }\n",
              "  </style>\n",
              "\n",
              "      <script>\n",
              "        const buttonEl =\n",
              "          document.querySelector('#df-4d6f84f6-920c-4181-bff6-578a5f65e154 button.colab-df-convert');\n",
              "        buttonEl.style.display =\n",
              "          google.colab.kernel.accessAllowed ? 'block' : 'none';\n",
              "\n",
              "        async function convertToInteractive(key) {\n",
              "          const element = document.querySelector('#df-4d6f84f6-920c-4181-bff6-578a5f65e154');\n",
              "          const dataTable =\n",
              "            await google.colab.kernel.invokeFunction('convertToInteractive',\n",
              "                                                     [key], {});\n",
              "          if (!dataTable) return;\n",
              "\n",
              "          const docLinkHtml = 'Like what you see? Visit the ' +\n",
              "            '<a target=\"_blank\" href=https://colab.research.google.com/notebooks/data_table.ipynb>data table notebook</a>'\n",
              "            + ' to learn more about interactive tables.';\n",
              "          element.innerHTML = '';\n",
              "          dataTable['output_type'] = 'display_data';\n",
              "          await google.colab.output.renderOutput(dataTable, element);\n",
              "          const docLink = document.createElement('div');\n",
              "          docLink.innerHTML = docLinkHtml;\n",
              "          element.appendChild(docLink);\n",
              "        }\n",
              "      </script>\n",
              "    </div>\n",
              "  </div>\n",
              "  "
            ]
          },
          "metadata": {},
          "execution_count": 1
        }
      ],
      "source": [
        "import pandas as pd\n",
        "import numpy as np\n",
        "import keras\n",
        "\n",
        "from keras.models import Sequential\n",
        "from keras.layers import Dense\n",
        "\n",
        "# load the concrete_data dataset\n",
        "concrete_data = pd.read_csv('https://cocl.us/concrete_data')\n",
        "\n",
        "# verify that the data was loaded correctly\n",
        "concrete_data.head()"
      ]
    },
    {
      "cell_type": "code",
      "execution_count": null,
      "metadata": {
        "id": "p9UCDK5KLN6K"
      },
      "outputs": [],
      "source": [
        "# split the concrete_data set into predictors (inputs) and target (output)\n",
        "predictors = concrete_data.drop(columns=['Strength'])\n",
        "target = concrete_data['Strength']\n",
        "\n",
        "n_cols = predictors.shape[1]"
      ]
    },
    {
      "cell_type": "markdown",
      "metadata": {
        "id": "KBBKst4xLN6K"
      },
      "source": [
        "# Part A\n",
        "\n",
        "Use the Keras library to build a neural network with the following:\n",
        "\n",
        "- One hidden layer of 10 nodes, and a ReLU activation function\n",
        "- Use the adam optimizer and the mean squared error as the loss function.\n"
      ]
    },
    {
      "cell_type": "code",
      "execution_count": null,
      "metadata": {
        "id": "PqWQwvDLLN6L"
      },
      "outputs": [],
      "source": [
        "# Create the neural network in a function so we can use it multiple times in the\n",
        "# subsequent sections\n",
        "def regression_model():\n",
        "    model = Sequential()\n",
        "    model.add(Dense(10, activation='relu', input_shape=(n_cols,)))\n",
        "    model.add(Dense(1))\n",
        "    model.compile(optimizer='adam', loss='mean_squared_error')\n",
        "    return model\n",
        "\n",
        "model = regression_model()"
      ]
    },
    {
      "cell_type": "markdown",
      "metadata": {
        "id": "kzx8jLhDLN6M"
      },
      "source": [
        "1. Randomly split the data into a training and test sets by holding 30% of the data for testing. You can use the train_test_split helper function from Scikit-learn."
      ]
    },
    {
      "cell_type": "code",
      "execution_count": null,
      "metadata": {
        "id": "lkHRnk59LN6M",
        "outputId": "7a2d9b29-2e39-4eeb-b2af-5c3100716edc"
      },
      "outputs": [
        {
          "data": {
            "text/plain": [
              "(721, 8)"
            ]
          },
          "execution_count": 6,
          "metadata": {},
          "output_type": "execute_result"
        }
      ],
      "source": [
        "from sklearn.model_selection import train_test_split\n",
        "\n",
        "predictors_train, predictors_test, target_train, target_test = train_test_split(predictors, target, \n",
        "                                                                                test_size=0.3, random_state=71)\n",
        "# let's have a look at the shape of the predictors set\n",
        "predictors_train.shape"
      ]
    },
    {
      "cell_type": "markdown",
      "metadata": {
        "id": "aThtmyWQLN6N"
      },
      "source": [
        "2. Train the model on the training data using 50 epochs."
      ]
    },
    {
      "cell_type": "code",
      "execution_count": null,
      "metadata": {
        "id": "2aKYwF_ELN6O",
        "outputId": "e5a91c8d-a70f-4417-d032-68f4e37f262d"
      },
      "outputs": [
        {
          "name": "stdout",
          "output_type": "stream",
          "text": [
            "Epoch 1/50\n",
            "721/721 [==============================] - 4s 5ms/step - loss: 1116086.4139\n",
            "Epoch 2/50\n",
            "721/721 [==============================] - 0s 49us/step - loss: 726629.4388\n",
            "Epoch 3/50\n",
            "721/721 [==============================] - 0s 50us/step - loss: 448014.1559\n",
            "Epoch 4/50\n",
            "721/721 [==============================] - 0s 47us/step - loss: 262298.4687\n",
            "Epoch 5/50\n",
            "721/721 [==============================] - 0s 47us/step - loss: 144462.3510\n",
            "Epoch 6/50\n",
            "721/721 [==============================] - 0s 53us/step - loss: 75073.8643\n",
            "Epoch 7/50\n",
            "721/721 [==============================] - 0s 53us/step - loss: 37472.5126\n",
            "Epoch 8/50\n",
            "721/721 [==============================] - 0s 51us/step - loss: 18837.7037\n",
            "Epoch 9/50\n",
            "721/721 [==============================] - 0s 46us/step - loss: 10612.3964\n",
            "Epoch 10/50\n",
            "721/721 [==============================] - 0s 57us/step - loss: 7277.6391\n",
            "Epoch 11/50\n",
            "721/721 [==============================] - 0s 50us/step - loss: 6056.7565\n",
            "Epoch 12/50\n",
            "721/721 [==============================] - 0s 60us/step - loss: 5633.6621\n",
            "Epoch 13/50\n",
            "721/721 [==============================] - 0s 64us/step - loss: 5467.5381\n",
            "Epoch 14/50\n",
            "721/721 [==============================] - 0s 64us/step - loss: 5368.5347\n",
            "Epoch 15/50\n",
            "721/721 [==============================] - 0s 57us/step - loss: 5296.6093\n",
            "Epoch 16/50\n",
            "721/721 [==============================] - 0s 47us/step - loss: 5228.1726\n",
            "Epoch 17/50\n",
            "721/721 [==============================] - 0s 54us/step - loss: 5162.7680\n",
            "Epoch 18/50\n",
            "721/721 [==============================] - 0s 58us/step - loss: 5093.9160\n",
            "Epoch 19/50\n",
            "721/721 [==============================] - 0s 50us/step - loss: 5025.0276\n",
            "Epoch 20/50\n",
            "721/721 [==============================] - 0s 54us/step - loss: 4958.2276\n",
            "Epoch 21/50\n",
            "721/721 [==============================] - 0s 47us/step - loss: 4884.1474\n",
            "Epoch 22/50\n",
            "721/721 [==============================] - 0s 57us/step - loss: 4813.8186\n",
            "Epoch 23/50\n",
            "721/721 [==============================] - 0s 60us/step - loss: 4749.1319\n",
            "Epoch 24/50\n",
            "721/721 [==============================] - 0s 50us/step - loss: 4675.2620\n",
            "Epoch 25/50\n",
            "721/721 [==============================] - 0s 51us/step - loss: 4607.9004\n",
            "Epoch 26/50\n",
            "721/721 [==============================] - 0s 60us/step - loss: 4542.1017\n",
            "Epoch 27/50\n",
            "721/721 [==============================] - 0s 61us/step - loss: 4473.4039\n",
            "Epoch 28/50\n",
            "721/721 [==============================] - 0s 47us/step - loss: 4407.4659\n",
            "Epoch 29/50\n",
            "721/721 [==============================] - 0s 46us/step - loss: 4339.7320\n",
            "Epoch 30/50\n",
            "721/721 [==============================] - 0s 54us/step - loss: 4275.5984\n",
            "Epoch 31/50\n",
            "721/721 [==============================] - 0s 46us/step - loss: 4206.0848\n",
            "Epoch 32/50\n",
            "721/721 [==============================] - 0s 55us/step - loss: 4141.0470\n",
            "Epoch 33/50\n",
            "721/721 [==============================] - 0s 53us/step - loss: 4079.9058\n",
            "Epoch 34/50\n",
            "721/721 [==============================] - 0s 51us/step - loss: 4012.1749\n",
            "Epoch 35/50\n",
            "721/721 [==============================] - 0s 50us/step - loss: 3953.3869\n",
            "Epoch 36/50\n",
            "721/721 [==============================] - 0s 51us/step - loss: 3888.3580\n",
            "Epoch 37/50\n",
            "721/721 [==============================] - 0s 51us/step - loss: 3827.9096\n",
            "Epoch 38/50\n",
            "721/721 [==============================] - 0s 54us/step - loss: 3768.7288\n",
            "Epoch 39/50\n",
            "721/721 [==============================] - 0s 67us/step - loss: 3708.7790\n",
            "Epoch 40/50\n",
            "721/721 [==============================] - 0s 58us/step - loss: 3651.7779\n",
            "Epoch 41/50\n",
            "721/721 [==============================] - 0s 61us/step - loss: 3596.8982\n",
            "Epoch 42/50\n",
            "721/721 [==============================] - 0s 69us/step - loss: 3539.5185\n",
            "Epoch 43/50\n",
            "721/721 [==============================] - 0s 80us/step - loss: 3487.1174\n",
            "Epoch 44/50\n",
            "721/721 [==============================] - 0s 55us/step - loss: 3429.3615\n",
            "Epoch 45/50\n",
            "721/721 [==============================] - 0s 53us/step - loss: 3375.7007\n",
            "Epoch 46/50\n",
            "721/721 [==============================] - 0s 50us/step - loss: 3329.6975\n",
            "Epoch 47/50\n",
            "721/721 [==============================] - 0s 53us/step - loss: 3274.2947\n",
            "Epoch 48/50\n",
            "721/721 [==============================] - 0s 47us/step - loss: 3220.3852\n",
            "Epoch 49/50\n",
            "721/721 [==============================] - 0s 53us/step - loss: 3172.2901\n",
            "Epoch 50/50\n",
            "721/721 [==============================] - 0s 51us/step - loss: 3122.3362\n"
          ]
        },
        {
          "data": {
            "text/plain": [
              "<keras.callbacks.callbacks.History at 0x23a4552af48>"
            ]
          },
          "execution_count": 5,
          "metadata": {},
          "output_type": "execute_result"
        }
      ],
      "source": [
        "model.fit(predictors_train, target_train, epochs=50)"
      ]
    },
    {
      "cell_type": "markdown",
      "metadata": {
        "id": "2g67HmhvLN6O"
      },
      "source": [
        "3. Evaluate the model on the test data and compute the mean squared error between the predicted concrete strength and the actual concrete strength. You can use the mean_squared_error function from Scikit-learn."
      ]
    },
    {
      "cell_type": "code",
      "execution_count": null,
      "metadata": {
        "id": "ZyC67kELLN6P",
        "outputId": "fa28bf32-33d6-407f-e3c8-4cce9106ed57"
      },
      "outputs": [
        {
          "name": "stdout",
          "output_type": "stream",
          "text": [
            "Mean squared error on test data is 67127.507\n"
          ]
        }
      ],
      "source": [
        "predictions_test = model.predict(predictors_test)\n",
        "from sklearn.metrics import mean_squared_error\n",
        "print('Mean squared error on test data is %.3f' % (mean_squared_error(target_test, predictions_test)))"
      ]
    },
    {
      "cell_type": "markdown",
      "metadata": {
        "id": "TmyuQkUvLN6Q"
      },
      "source": [
        "4. Repeat steps 1 - 3, 50 times, i.e., create a list of 50 mean squared errors.\n",
        "5. Report the mean and the standard deviation of the mean squared errors."
      ]
    },
    {
      "cell_type": "code",
      "execution_count": null,
      "metadata": {
        "id": "bbqouVQMLN6Q"
      },
      "outputs": [],
      "source": [
        "# Create a function that evaluates the model so we can use it to evaluate the models created in part A, B, C and D\n",
        "# the 'create_model_func' parameter is the function that is used to build the model. For part A, this is the\n",
        "# regression_model function defined above\n",
        "def evaluate_model(create_model_func, predictors, targets, epochs=50):\n",
        "    mean_squared_errors = []\n",
        "    for i in range(50):\n",
        "        # create the model. I wasn't 100% clear whether this should be inside the loop, but I _think_ that was the\n",
        "        # intent of the question. Otherwise, the average and stddev of the mean squared error is not that meaningful\n",
        "        model = create_model_func()\n",
        "        # 1. split the data in a train and test set\n",
        "        predictors_train, predictors_test, target_train, target_test = train_test_split(predictors, target, \n",
        "                                                                                    test_size=0.3, random_state=71)\n",
        "        # 2. train 50 epochs (suppress logging this time)\n",
        "        model.fit(predictors_train, target_train, epochs=epochs, verbose=0)\n",
        "        # 3. measure the mse and add this to the list\n",
        "        predictions_test = model.predict(predictors_test)\n",
        "        mse = mean_squared_error(target_test, predictions_test)\n",
        "        mean_squared_errors.append(mse)\n",
        "        print('.', end='') # output a dot so we can see that the function is still running\n",
        "    print(' Done!')\n",
        "    # return the mean and stddev of the mse list\n",
        "    return np.mean(mean_squared_errors), np.std(mean_squared_errors)"
      ]
    },
    {
      "cell_type": "code",
      "execution_count": null,
      "metadata": {
        "id": "kK_ZMKjlLN6S",
        "outputId": "daf0c9b3-7cc6-48e7-a01b-da877ea1c287"
      },
      "outputs": [
        {
          "name": "stdout",
          "output_type": "stream",
          "text": [
            ".................................................. Done!\n",
            "Mean squared errors for 50 regression models: mean = 356.433, std dev = 376.897\n"
          ]
        }
      ],
      "source": [
        "# Evaluate the model and print the mean and std dev of the mean squared errors. Note that we pass in \n",
        "# the regression_model _function_ here. This is used in the evaluate_model function to create a fresh\n",
        "# neural network in each loop\n",
        "mean_mse, std_mse = evaluate_model(regression_model, predictors, target)\n",
        "# Report the mean and stddev of the mean squared errors\n",
        "print(\"Mean squared errors for 50 regression models: mean = %.3f, std dev = %.3f\" %(mean_mse, std_mse))"
      ]
    },
    {
      "cell_type": "markdown",
      "metadata": {
        "id": "tLZ0vGkdLN6T"
      },
      "source": [
        "# Part B - normalize the data\n",
        "\n",
        "Repeat Part A but use a normalized version of the data. Recall that one way to normalize the data is by subtracting the mean from the individual predictors and dividing by the standard deviation."
      ]
    },
    {
      "cell_type": "code",
      "execution_count": null,
      "metadata": {
        "id": "sN7Y4GngLN6T",
        "outputId": "cce64a85-f19d-4f36-815c-9e86e4d223d6"
      },
      "outputs": [
        {
          "data": {
            "text/html": [
              "<div>\n",
              "<style scoped>\n",
              "    .dataframe tbody tr th:only-of-type {\n",
              "        vertical-align: middle;\n",
              "    }\n",
              "\n",
              "    .dataframe tbody tr th {\n",
              "        vertical-align: top;\n",
              "    }\n",
              "\n",
              "    .dataframe thead th {\n",
              "        text-align: right;\n",
              "    }\n",
              "</style>\n",
              "<table border=\"1\" class=\"dataframe\">\n",
              "  <thead>\n",
              "    <tr style=\"text-align: right;\">\n",
              "      <th></th>\n",
              "      <th>Cement</th>\n",
              "      <th>Blast Furnace Slag</th>\n",
              "      <th>Fly Ash</th>\n",
              "      <th>Water</th>\n",
              "      <th>Superplasticizer</th>\n",
              "      <th>Coarse Aggregate</th>\n",
              "      <th>Fine Aggregate</th>\n",
              "      <th>Age</th>\n",
              "    </tr>\n",
              "  </thead>\n",
              "  <tbody>\n",
              "    <tr>\n",
              "      <th>0</th>\n",
              "      <td>2.476712</td>\n",
              "      <td>-0.856472</td>\n",
              "      <td>-0.846733</td>\n",
              "      <td>-0.916319</td>\n",
              "      <td>-0.620147</td>\n",
              "      <td>0.862735</td>\n",
              "      <td>-1.217079</td>\n",
              "      <td>-0.279597</td>\n",
              "    </tr>\n",
              "    <tr>\n",
              "      <th>1</th>\n",
              "      <td>2.476712</td>\n",
              "      <td>-0.856472</td>\n",
              "      <td>-0.846733</td>\n",
              "      <td>-0.916319</td>\n",
              "      <td>-0.620147</td>\n",
              "      <td>1.055651</td>\n",
              "      <td>-1.217079</td>\n",
              "      <td>-0.279597</td>\n",
              "    </tr>\n",
              "    <tr>\n",
              "      <th>2</th>\n",
              "      <td>0.491187</td>\n",
              "      <td>0.795140</td>\n",
              "      <td>-0.846733</td>\n",
              "      <td>2.174405</td>\n",
              "      <td>-1.038638</td>\n",
              "      <td>-0.526262</td>\n",
              "      <td>-2.239829</td>\n",
              "      <td>3.551340</td>\n",
              "    </tr>\n",
              "    <tr>\n",
              "      <th>3</th>\n",
              "      <td>0.491187</td>\n",
              "      <td>0.795140</td>\n",
              "      <td>-0.846733</td>\n",
              "      <td>2.174405</td>\n",
              "      <td>-1.038638</td>\n",
              "      <td>-0.526262</td>\n",
              "      <td>-2.239829</td>\n",
              "      <td>5.055221</td>\n",
              "    </tr>\n",
              "    <tr>\n",
              "      <th>4</th>\n",
              "      <td>-0.790075</td>\n",
              "      <td>0.678079</td>\n",
              "      <td>-0.846733</td>\n",
              "      <td>0.488555</td>\n",
              "      <td>-1.038638</td>\n",
              "      <td>0.070492</td>\n",
              "      <td>0.647569</td>\n",
              "      <td>4.976069</td>\n",
              "    </tr>\n",
              "  </tbody>\n",
              "</table>\n",
              "</div>"
            ],
            "text/plain": [
              "     Cement  Blast Furnace Slag   Fly Ash     Water  Superplasticizer  \\\n",
              "0  2.476712           -0.856472 -0.846733 -0.916319         -0.620147   \n",
              "1  2.476712           -0.856472 -0.846733 -0.916319         -0.620147   \n",
              "2  0.491187            0.795140 -0.846733  2.174405         -1.038638   \n",
              "3  0.491187            0.795140 -0.846733  2.174405         -1.038638   \n",
              "4 -0.790075            0.678079 -0.846733  0.488555         -1.038638   \n",
              "\n",
              "   Coarse Aggregate  Fine Aggregate       Age  \n",
              "0          0.862735       -1.217079 -0.279597  \n",
              "1          1.055651       -1.217079 -0.279597  \n",
              "2         -0.526262       -2.239829  3.551340  \n",
              "3         -0.526262       -2.239829  5.055221  \n",
              "4          0.070492        0.647569  4.976069  "
            ]
          },
          "execution_count": 10,
          "metadata": {},
          "output_type": "execute_result"
        }
      ],
      "source": [
        "# Normalize the data\n",
        "predictors_norm = (predictors - predictors.mean()) / predictors.std()\n",
        "predictors_norm.head()"
      ]
    },
    {
      "cell_type": "code",
      "execution_count": null,
      "metadata": {
        "id": "jry0vYZRLN6U",
        "outputId": "ac700d4e-db14-4f74-8dde-4b829c9f444c"
      },
      "outputs": [
        {
          "name": "stdout",
          "output_type": "stream",
          "text": [
            ".................................................. Done!\n",
            "Mean squared errors for 50 regression models on normalized data: mean = 333.406, std dev = 76.560\n"
          ]
        }
      ],
      "source": [
        "mean_mse, std_mse = evaluate_model(regression_model, predictors_norm, target)\n",
        "# Report the mean and stddev of the mean squared errors\n",
        "print(\"Mean squared errors for 50 regression models on normalized data: mean = %.3f, std dev = %.3f\" % \n",
        "      (mean_mse, std_mse))"
      ]
    },
    {
      "cell_type": "markdown",
      "metadata": {
        "id": "WGvHXCOnLN6U"
      },
      "source": [
        "**How does the mean of the mean squared errors compare to that from Step A?**\n",
        "\n",
        "The mean of the mean squared error has gone down a bit (~10%), but the std deviation has gone down significantly. This implies that when using normalized data, the performance on the test set is much less dependent on how the data happened to be (randomly) split into a training and a test data set."
      ]
    },
    {
      "cell_type": "markdown",
      "metadata": {
        "id": "hWs9sfBaLN6V"
      },
      "source": [
        "# Part C - 100 epochs\n",
        "\n",
        "Repeat Part B **but use 100 epochs this time for training.**"
      ]
    },
    {
      "cell_type": "code",
      "execution_count": null,
      "metadata": {
        "id": "4J-7-autLN6V",
        "outputId": "6b087b77-5458-42ea-82ee-151bb01108fd"
      },
      "outputs": [
        {
          "name": "stdout",
          "output_type": "stream",
          "text": [
            ".................................................. Done!\n",
            "Mean squared errors for 50 regression models on normalized data, trained 100 epochs: mean = 149.652, std dev = 10.491\n"
          ]
        }
      ],
      "source": [
        "mean_mse, std_mse = evaluate_model(regression_model, predictors_norm, target, epochs=100)\n",
        "# Report the mean and stddev of the mean squared errors\n",
        "print(\"Mean squared errors for 50 regression models on normalized data, trained 100 epochs: mean = %.3f, std dev = %.3f\" % \n",
        "      (mean_mse, std_mse))"
      ]
    },
    {
      "cell_type": "markdown",
      "metadata": {
        "id": "a-loyzBFLN6W"
      },
      "source": [
        "**How does the mean of the mean squared errors compare to that from Step B?**\n",
        "\n",
        "The mean squared error on the test set more than halved. Clearly, there was plenty of improvement to be gained with additional training. The standard deviation has gone down a lot as well."
      ]
    },
    {
      "cell_type": "markdown",
      "metadata": {
        "id": "Hkx31jEkLN6W"
      },
      "source": [
        "# Part D - increate the number of hidden layers\n",
        "\n",
        "Repeat part B but use a neural network with the following instead:\n",
        "\n",
        "- Three hidden layers, each of 10 nodes and ReLU activation function."
      ]
    },
    {
      "cell_type": "code",
      "execution_count": null,
      "metadata": {
        "id": "uQLhkDc2LN6X",
        "outputId": "4efbce45-bafb-454d-a72a-d5a4ecb2c5fd"
      },
      "outputs": [
        {
          "name": "stdout",
          "output_type": "stream",
          "text": [
            ".................................................. Done!\n",
            "Mean squared errors for 50 regression models with 3 hidden layers: mean = 122.131, std dev = 13.626\n"
          ]
        }
      ],
      "source": [
        "def regression_model_D():\n",
        "    model = Sequential()\n",
        "    model.add(Dense(10, activation='relu', input_shape=(n_cols,)))\n",
        "    model.add(Dense(10, activation='relu'))\n",
        "    model.add(Dense(10, activation='relu'))\n",
        "    model.add(Dense(1))\n",
        "    model.compile(optimizer='adam', loss='mean_squared_error')\n",
        "    return model\n",
        "\n",
        "# Evaluate model D\n",
        "mean_mse, std_mse = evaluate_model(regression_model_D, predictors_norm, target)\n",
        "# Report the mean and stddev of the mean squared errors\n",
        "print(\"Mean squared errors for 50 regression models with 3 hidden layers: mean = %.3f, std dev = %.3f\" % \n",
        "      (mean_mse, std_mse))"
      ]
    },
    {
      "cell_type": "markdown",
      "metadata": {
        "id": "NtW2It2ILN6Z"
      },
      "source": [
        "**How does the mean of the mean squared errors compare to that from Step B?**\n",
        "\n",
        "The mean of the mean squared errors is a lot better than in part B (123 vs 321). This shows that the network with multiple hidden layers was significantly better at learning to predict the 'Strength' feature than the single layer network."
      ]
    },
    {
      "cell_type": "code",
      "execution_count": null,
      "metadata": {
        "id": "W1I-zab2LN6a"
      },
      "outputs": [],
      "source": []
    }
  ],
  "metadata": {
    "kernelspec": {
      "display_name": "Python 3",
      "language": "python",
      "name": "python3"
    },
    "language_info": {
      "codemirror_mode": {
        "name": "ipython",
        "version": 3
      },
      "file_extension": ".py",
      "mimetype": "text/x-python",
      "name": "python",
      "nbconvert_exporter": "python",
      "pygments_lexer": "ipython3",
      "version": "3.7.4"
    },
    "colab": {
      "provenance": [],
      "include_colab_link": true
    }
  },
  "nbformat": 4,
  "nbformat_minor": 0
}